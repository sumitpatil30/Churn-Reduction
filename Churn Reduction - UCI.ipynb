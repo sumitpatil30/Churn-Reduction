{
 "cells": [
  {
   "cell_type": "code",
   "execution_count": 89,
   "metadata": {},
   "outputs": [],
   "source": [
    "import os\n",
    "import pandas as pd\n",
    "import numpy as np\n",
    "import seaborn as sns\n",
    "import matplotlib.pyplot as plt\n",
    "%matplotlib inline\n",
    "\n",
    "from scipy.stats import chi2_contingency\n",
    "\n",
    "import statsmodels.api as sm\n",
    "from statsmodels.stats.outliers_influence import variance_inflation_factor\n",
    "\n",
    "from sklearn.model_selection import train_test_split\n",
    "from sklearn.linear_model import LogisticRegression\n",
    "from sklearn.tree import tree\n",
    "from sklearn.ensemble import RandomForestClassifier\n",
    "from xgboost import XGBClassifier\n",
    "\n",
    "from sklearn import metrics\n",
    "\n",
    "from sklearn.model_selection import GridSearchCV"
   ]
  },
  {
   "cell_type": "code",
   "execution_count": 90,
   "metadata": {},
   "outputs": [],
   "source": [
    "# Setting up the directory \n",
    "os.chdir('E:\\\\Python\\\\Projects\\\\Sumit\\\\churn')"
   ]
  },
  {
   "cell_type": "code",
   "execution_count": 91,
   "metadata": {},
   "outputs": [],
   "source": [
    "# Loading the train data\n",
    "data = pd.read_csv('Train_data.csv' , sep=',')"
   ]
  },
  {
   "cell_type": "code",
   "execution_count": 92,
   "metadata": {},
   "outputs": [
    {
     "data": {
      "text/html": [
       "<div>\n",
       "<style scoped>\n",
       "    .dataframe tbody tr th:only-of-type {\n",
       "        vertical-align: middle;\n",
       "    }\n",
       "\n",
       "    .dataframe tbody tr th {\n",
       "        vertical-align: top;\n",
       "    }\n",
       "\n",
       "    .dataframe thead th {\n",
       "        text-align: right;\n",
       "    }\n",
       "</style>\n",
       "<table border=\"1\" class=\"dataframe\">\n",
       "  <thead>\n",
       "    <tr style=\"text-align: right;\">\n",
       "      <th></th>\n",
       "      <th>state</th>\n",
       "      <th>account length</th>\n",
       "      <th>area code</th>\n",
       "      <th>phone number</th>\n",
       "      <th>international plan</th>\n",
       "      <th>voice mail plan</th>\n",
       "      <th>number vmail messages</th>\n",
       "      <th>total day minutes</th>\n",
       "      <th>total day calls</th>\n",
       "      <th>total day charge</th>\n",
       "      <th>...</th>\n",
       "      <th>total eve calls</th>\n",
       "      <th>total eve charge</th>\n",
       "      <th>total night minutes</th>\n",
       "      <th>total night calls</th>\n",
       "      <th>total night charge</th>\n",
       "      <th>total intl minutes</th>\n",
       "      <th>total intl calls</th>\n",
       "      <th>total intl charge</th>\n",
       "      <th>number customer service calls</th>\n",
       "      <th>Churn</th>\n",
       "    </tr>\n",
       "  </thead>\n",
       "  <tbody>\n",
       "    <tr>\n",
       "      <th>0</th>\n",
       "      <td>KS</td>\n",
       "      <td>128</td>\n",
       "      <td>415</td>\n",
       "      <td>382-4657</td>\n",
       "      <td>no</td>\n",
       "      <td>yes</td>\n",
       "      <td>25</td>\n",
       "      <td>265.1</td>\n",
       "      <td>110</td>\n",
       "      <td>45.07</td>\n",
       "      <td>...</td>\n",
       "      <td>99</td>\n",
       "      <td>16.78</td>\n",
       "      <td>244.7</td>\n",
       "      <td>91</td>\n",
       "      <td>11.01</td>\n",
       "      <td>10.0</td>\n",
       "      <td>3</td>\n",
       "      <td>2.70</td>\n",
       "      <td>1</td>\n",
       "      <td>False.</td>\n",
       "    </tr>\n",
       "    <tr>\n",
       "      <th>1</th>\n",
       "      <td>OH</td>\n",
       "      <td>107</td>\n",
       "      <td>415</td>\n",
       "      <td>371-7191</td>\n",
       "      <td>no</td>\n",
       "      <td>yes</td>\n",
       "      <td>26</td>\n",
       "      <td>161.6</td>\n",
       "      <td>123</td>\n",
       "      <td>27.47</td>\n",
       "      <td>...</td>\n",
       "      <td>103</td>\n",
       "      <td>16.62</td>\n",
       "      <td>254.4</td>\n",
       "      <td>103</td>\n",
       "      <td>11.45</td>\n",
       "      <td>13.7</td>\n",
       "      <td>3</td>\n",
       "      <td>3.70</td>\n",
       "      <td>1</td>\n",
       "      <td>False.</td>\n",
       "    </tr>\n",
       "    <tr>\n",
       "      <th>2</th>\n",
       "      <td>NJ</td>\n",
       "      <td>137</td>\n",
       "      <td>415</td>\n",
       "      <td>358-1921</td>\n",
       "      <td>no</td>\n",
       "      <td>no</td>\n",
       "      <td>0</td>\n",
       "      <td>243.4</td>\n",
       "      <td>114</td>\n",
       "      <td>41.38</td>\n",
       "      <td>...</td>\n",
       "      <td>110</td>\n",
       "      <td>10.30</td>\n",
       "      <td>162.6</td>\n",
       "      <td>104</td>\n",
       "      <td>7.32</td>\n",
       "      <td>12.2</td>\n",
       "      <td>5</td>\n",
       "      <td>3.29</td>\n",
       "      <td>0</td>\n",
       "      <td>False.</td>\n",
       "    </tr>\n",
       "    <tr>\n",
       "      <th>3</th>\n",
       "      <td>OH</td>\n",
       "      <td>84</td>\n",
       "      <td>408</td>\n",
       "      <td>375-9999</td>\n",
       "      <td>yes</td>\n",
       "      <td>no</td>\n",
       "      <td>0</td>\n",
       "      <td>299.4</td>\n",
       "      <td>71</td>\n",
       "      <td>50.90</td>\n",
       "      <td>...</td>\n",
       "      <td>88</td>\n",
       "      <td>5.26</td>\n",
       "      <td>196.9</td>\n",
       "      <td>89</td>\n",
       "      <td>8.86</td>\n",
       "      <td>6.6</td>\n",
       "      <td>7</td>\n",
       "      <td>1.78</td>\n",
       "      <td>2</td>\n",
       "      <td>False.</td>\n",
       "    </tr>\n",
       "    <tr>\n",
       "      <th>4</th>\n",
       "      <td>OK</td>\n",
       "      <td>75</td>\n",
       "      <td>415</td>\n",
       "      <td>330-6626</td>\n",
       "      <td>yes</td>\n",
       "      <td>no</td>\n",
       "      <td>0</td>\n",
       "      <td>166.7</td>\n",
       "      <td>113</td>\n",
       "      <td>28.34</td>\n",
       "      <td>...</td>\n",
       "      <td>122</td>\n",
       "      <td>12.61</td>\n",
       "      <td>186.9</td>\n",
       "      <td>121</td>\n",
       "      <td>8.41</td>\n",
       "      <td>10.1</td>\n",
       "      <td>3</td>\n",
       "      <td>2.73</td>\n",
       "      <td>3</td>\n",
       "      <td>False.</td>\n",
       "    </tr>\n",
       "  </tbody>\n",
       "</table>\n",
       "<p>5 rows × 21 columns</p>\n",
       "</div>"
      ],
      "text/plain": [
       "  state  account length  area code phone number international plan  \\\n",
       "0    KS             128        415     382-4657                 no   \n",
       "1    OH             107        415     371-7191                 no   \n",
       "2    NJ             137        415     358-1921                 no   \n",
       "3    OH              84        408     375-9999                yes   \n",
       "4    OK              75        415     330-6626                yes   \n",
       "\n",
       "  voice mail plan  number vmail messages  total day minutes  total day calls  \\\n",
       "0             yes                     25              265.1              110   \n",
       "1             yes                     26              161.6              123   \n",
       "2              no                      0              243.4              114   \n",
       "3              no                      0              299.4               71   \n",
       "4              no                      0              166.7              113   \n",
       "\n",
       "   total day charge   ...     total eve calls  total eve charge  \\\n",
       "0             45.07   ...                  99             16.78   \n",
       "1             27.47   ...                 103             16.62   \n",
       "2             41.38   ...                 110             10.30   \n",
       "3             50.90   ...                  88              5.26   \n",
       "4             28.34   ...                 122             12.61   \n",
       "\n",
       "   total night minutes  total night calls  total night charge  \\\n",
       "0                244.7                 91               11.01   \n",
       "1                254.4                103               11.45   \n",
       "2                162.6                104                7.32   \n",
       "3                196.9                 89                8.86   \n",
       "4                186.9                121                8.41   \n",
       "\n",
       "   total intl minutes  total intl calls  total intl charge  \\\n",
       "0                10.0                 3               2.70   \n",
       "1                13.7                 3               3.70   \n",
       "2                12.2                 5               3.29   \n",
       "3                 6.6                 7               1.78   \n",
       "4                10.1                 3               2.73   \n",
       "\n",
       "   number customer service calls    Churn  \n",
       "0                              1   False.  \n",
       "1                              1   False.  \n",
       "2                              0   False.  \n",
       "3                              2   False.  \n",
       "4                              3   False.  \n",
       "\n",
       "[5 rows x 21 columns]"
      ]
     },
     "execution_count": 92,
     "metadata": {},
     "output_type": "execute_result"
    }
   ],
   "source": [
    "# Checking first 5 rows of train data\n",
    "data.head()"
   ]
  },
  {
   "cell_type": "code",
   "execution_count": 93,
   "metadata": {},
   "outputs": [
    {
     "name": "stdout",
     "output_type": "stream",
     "text": [
      "<class 'pandas.core.frame.DataFrame'>\n",
      "RangeIndex: 3333 entries, 0 to 3332\n",
      "Data columns (total 21 columns):\n",
      "state                            3333 non-null object\n",
      "account length                   3333 non-null int64\n",
      "area code                        3333 non-null int64\n",
      "phone number                     3333 non-null object\n",
      "international plan               3333 non-null object\n",
      "voice mail plan                  3333 non-null object\n",
      "number vmail messages            3333 non-null int64\n",
      "total day minutes                3333 non-null float64\n",
      "total day calls                  3333 non-null int64\n",
      "total day charge                 3333 non-null float64\n",
      "total eve minutes                3333 non-null float64\n",
      "total eve calls                  3333 non-null int64\n",
      "total eve charge                 3333 non-null float64\n",
      "total night minutes              3333 non-null float64\n",
      "total night calls                3333 non-null int64\n",
      "total night charge               3333 non-null float64\n",
      "total intl minutes               3333 non-null float64\n",
      "total intl calls                 3333 non-null int64\n",
      "total intl charge                3333 non-null float64\n",
      "number customer service calls    3333 non-null int64\n",
      "Churn                            3333 non-null object\n",
      "dtypes: float64(8), int64(8), object(5)\n",
      "memory usage: 546.9+ KB\n"
     ]
    }
   ],
   "source": [
    "# Getting the strucutre of train data\n",
    "data.info()"
   ]
  },
  {
   "cell_type": "code",
   "execution_count": 94,
   "metadata": {},
   "outputs": [
    {
     "data": {
      "text/plain": [
       "state                            0\n",
       "account length                   0\n",
       "area code                        0\n",
       "phone number                     0\n",
       "international plan               0\n",
       "voice mail plan                  0\n",
       "number vmail messages            0\n",
       "total day minutes                0\n",
       "total day calls                  0\n",
       "total day charge                 0\n",
       "total eve minutes                0\n",
       "total eve calls                  0\n",
       "total eve charge                 0\n",
       "total night minutes              0\n",
       "total night calls                0\n",
       "total night charge               0\n",
       "total intl minutes               0\n",
       "total intl calls                 0\n",
       "total intl charge                0\n",
       "number customer service calls    0\n",
       "Churn                            0\n",
       "dtype: int64"
      ]
     },
     "execution_count": 94,
     "metadata": {},
     "output_type": "execute_result"
    }
   ],
   "source": [
    "#Check missing values\n",
    "data.isnull().sum()"
   ]
  },
  {
   "cell_type": "code",
   "execution_count": 95,
   "metadata": {},
   "outputs": [
    {
     "data": {
      "image/png": "[encoded data removed]",
      "text/plain": [
       "<Figure size 432x288 with 1 Axes>"
      ]
     },
     "metadata": {
      "needs_background": "light"
     },
     "output_type": "display_data"
    },
    {
     "data": {
      "image/png": "[encoded data removed]",
      "text/plain": [
       "<Figure size 432x288 with 1 Axes>"
      ]
     },
     "metadata": {
      "needs_background": "light"
     },
     "output_type": "display_data"
    },
    {
     "data": {
      "image/png": "[encoded data removed]",
      "text/plain": [
       "<Figure size 432x288 with 1 Axes>"
      ]
     },
     "metadata": {
      "needs_background": "light"
     },
     "output_type": "display_data"
    },
    {
     "data": {
      "image/png": "[encoded data removed]",
      "text/plain": [
       "<Figure size 432x288 with 1 Axes>"
      ]
     },
     "metadata": {
      "needs_background": "light"
     },
     "output_type": "display_data"
    },
    {
     "data": {
      "image/png": "[encoded data removed]",
      "text/plain": [
       "<Figure size 432x288 with 1 Axes>"
      ]
     },
     "metadata": {
      "needs_background": "light"
     },
     "output_type": "display_data"
    },
    {
     "data": {
      "image/png": "[encoded data removed]",
      "text/plain": [
       "<Figure size 432x288 with 1 Axes>"
      ]
     },
     "metadata": {
      "needs_background": "light"
     },
     "output_type": "display_data"
    },
    {
     "data": {
      "image/png": "[encoded data removed]",
      "text/plain": [
       "<Figure size 432x288 with 1 Axes>"
      ]
     },
     "metadata": {
      "needs_background": "light"
     },
     "output_type": "display_data"
    },
    {
     "data": {
      "image/png": "[encoded data removed]",
      "text/plain": [
       "<Figure size 432x288 with 1 Axes>"
      ]
     },
     "metadata": {
      "needs_background": "light"
     },
     "output_type": "display_data"
    },
    {
     "data": {
      "image/png": "[encoded data removed]",
      "text/plain": [
       "<Figure size 432x288 with 1 Axes>"
      ]
     },
     "metadata": {
      "needs_background": "light"
     },
     "output_type": "display_data"
    },
    {
     "data": {
      "image/png": "[encoded data removed]",
      "text/plain": [
       "<Figure size 432x288 with 1 Axes>"
      ]
     },
     "metadata": {
      "needs_background": "light"
     },
     "output_type": "display_data"
    },
    {
     "data": {
      "image/png": "[encoded data removed]",
      "text/plain": [
       "<Figure size 432x288 with 1 Axes>"
      ]
     },
     "metadata": {
      "needs_background": "light"
     },
     "output_type": "display_data"
    },
    {
     "data": {
      "image/png": "[encoded data removed]",
      "text/plain": [
       "<Figure size 432x288 with 1 Axes>"
      ]
     },
     "metadata": {
      "needs_background": "light"
     },
     "output_type": "display_data"
    },
    {
     "data": {
      "image/png": "[encoded data removed]",
      "text/plain": [
       "<Figure size 432x288 with 1 Axes>"
      ]
     },
     "metadata": {
      "needs_background": "light"
     },
     "output_type": "display_data"
    },
    {
     "data": {
      "image/png": "[encoded data removed]",
      "text/plain": [
       "<Figure size 432x288 with 1 Axes>"
      ]
     },
     "metadata": {
      "needs_background": "light"
     },
     "output_type": "display_data"
    },
    {
     "data": {
      "image/png": "[encoded data removed]",
      "text/plain": [
       "<Figure size 432x288 with 1 Axes>"
      ]
     },
     "metadata": {
      "needs_background": "light"
     },
     "output_type": "display_data"
    },
    {
     "data": {
      "text/plain": [
       "<Figure size 432x288 with 0 Axes>"
      ]
     },
     "metadata": {},
     "output_type": "display_data"
    }
   ],
   "source": [
    "# Histogram visualization with median and mean for all Continuous Variables\n",
    "cont_names=[\"account length\",\n",
    "            \"number vmail messages\",\n",
    "            \"total day minutes\", \n",
    "            \"total day calls\", \n",
    "            \"total day charge\",\n",
    "            \"total eve minutes\", \n",
    "            \"total eve calls\",\n",
    "            \"total eve charge\",\n",
    "            \"total night minutes\",\n",
    "            \"total night calls\", \n",
    "            \"total night charge\",\n",
    "            \"total intl minutes\", \n",
    "            \"total intl calls\", \n",
    "            \"total intl charge\",\n",
    "            \"number customer service calls\"]\n",
    "\n",
    "for i in cont_names:\n",
    "    plt.hist(data[i], bins= 30, color ='#3399ff')\n",
    "    plt.xlabel(i)\n",
    "    plt.ylabel('Frequency')\n",
    "    plt.title('Distribution of ' + i)\n",
    "    plt.axvline(data[i].mean(), color= 'red')\n",
    "    plt.axvline(data[i].median(), color = 'green')\n",
    "    plt.show()\n",
    "    plt.clf()\n",
    "    \n",
    "# For a normal distribution mean, median and mode all lie on same line\n",
    "# I am plotting histogram along with mean and median\n",
    "# Mean is in red color and Median and green color"
   ]
  },
  {
   "cell_type": "code",
   "execution_count": null,
   "metadata": {},
   "outputs": [],
   "source": [
    "# Visualizing Count Plot for all categorical variables"
   ]
  },
  {
   "cell_type": "code",
   "execution_count": 96,
   "metadata": {
    "collapsed": true
   },
   "outputs": [
    {
     "data": {
      "text/plain": [
       "<matplotlib.axes._subplots.AxesSubplot at 0x21793f05f60>"
      ]
     },
     "execution_count": 96,
     "metadata": {},
     "output_type": "execute_result"
    },
    {
     "data": {
      "image/png": "[encoded data removed]",
      "text/plain": [
       "<Figure size 1440x720 with 1 Axes>"
      ]
     },
     "metadata": {
      "needs_background": "light"
     },
     "output_type": "display_data"
    }
   ],
   "source": [
    "# Count Plot for 'state'\n",
    "plt.figure( figsize= (20,10) )\n",
    "sns.countplot(data['state'])"
   ]
  },
  {
   "cell_type": "code",
   "execution_count": 97,
   "metadata": {
    "collapsed": true
   },
   "outputs": [
    {
     "data": {
      "text/plain": [
       "<matplotlib.axes._subplots.AxesSubplot at 0x21797758780>"
      ]
     },
     "execution_count": 97,
     "metadata": {},
     "output_type": "execute_result"
    },
    {
     "data": {
      "image/png": "[encoded data removed]",
      "text/plain": [
       "<Figure size 432x288 with 1 Axes>"
      ]
     },
     "metadata": {
      "needs_background": "light"
     },
     "output_type": "display_data"
    }
   ],
   "source": [
    "# Count Plot for 'area code'\n",
    "sns.countplot(data['area code'])"
   ]
  },
  {
   "cell_type": "code",
   "execution_count": 98,
   "metadata": {
    "collapsed": true
   },
   "outputs": [
    {
     "data": {
      "text/plain": [
       "<matplotlib.axes._subplots.AxesSubplot at 0x217975d5400>"
      ]
     },
     "execution_count": 98,
     "metadata": {},
     "output_type": "execute_result"
    },
    {
     "data": {
      "image/png": "[encoded data removed]",
      "text/plain": [
       "<Figure size 432x288 with 1 Axes>"
      ]
     },
     "metadata": {
      "needs_background": "light"
     },
     "output_type": "display_data"
    }
   ],
   "source": [
    "# Count Plot for 'international plan'\n",
    "sns.countplot(data['international plan'])"
   ]
  },
  {
   "cell_type": "code",
   "execution_count": 99,
   "metadata": {
    "collapsed": true
   },
   "outputs": [
    {
     "data": {
      "text/plain": [
       "<matplotlib.axes._subplots.AxesSubplot at 0x21799652860>"
      ]
     },
     "execution_count": 99,
     "metadata": {},
     "output_type": "execute_result"
    },
    {
     "data": {
      "image/png": "[encoded data removed]",
      "text/plain": [
       "<Figure size 432x288 with 1 Axes>"
      ]
     },
     "metadata": {
      "needs_background": "light"
     },
     "output_type": "display_data"
    }
   ],
   "source": [
    "# Count Plot for 'voice mail plan'\n",
    "sns.countplot(data['voice mail plan'])"
   ]
  },
  {
   "cell_type": "code",
   "execution_count": 100,
   "metadata": {
    "collapsed": true
   },
   "outputs": [
    {
     "data": {
      "text/plain": [
       "<matplotlib.axes._subplots.AxesSubplot at 0x21793f8d080>"
      ]
     },
     "execution_count": 100,
     "metadata": {},
     "output_type": "execute_result"
    },
    {
     "data": {
      "image/png": "[encoded data removed]",
      "text/plain": [
       "<Figure size 432x288 with 1 Axes>"
      ]
     },
     "metadata": {
      "needs_background": "light"
     },
     "output_type": "display_data"
    }
   ],
   "source": [
    "# Count Plot for target variable - 'Churn'\n",
    "sns.countplot(data['Churn'])"
   ]
  },
  {
   "cell_type": "code",
   "execution_count": 101,
   "metadata": {
    "collapsed": true
   },
   "outputs": [
    {
     "data": {
      "text/plain": [
       "<matplotlib.axes._subplots.AxesSubplot at 0x21793f05160>"
      ]
     },
     "execution_count": 101,
     "metadata": {},
     "output_type": "execute_result"
    },
    {
     "data": {
      "image/png": "[encoded data removed]",
      "text/plain": [
       "<Figure size 1080x1080 with 2 Axes>"
      ]
     },
     "metadata": {
      "needs_background": "light"
     },
     "output_type": "display_data"
    }
   ],
   "source": [
    "#Correlation Matrix for all continuous variables\n",
    "continuous_var=data[cont_names] \n",
    "\n",
    "corr_matrix=continuous_var.corr()\n",
    "\n",
    "plt.figure( figsize =(15,15))\n",
    "sns.set(font_scale=1.1)\n",
    "plt.title('Correlation Matrix for all Continuous Variables')\n",
    "\n",
    "sns.heatmap(corr_matrix.round(2), \n",
    "            xticklabels=corr_matrix.columns, \n",
    "            yticklabels=corr_matrix.columns, \n",
    "            cmap ='RdYlBu',\n",
    "            annot=True,\n",
    "           )"
   ]
  },
  {
   "cell_type": "code",
   "execution_count": 102,
   "metadata": {},
   "outputs": [],
   "source": [
    "# After analysing the Correlation Matrix we can see that many predictor variables are related to each other. \n",
    "# The following predictor variables have correlation=1 :\n",
    "# 1. 'total day minutes' and 'total day charge'\n",
    "# 2. 'total eve minutes' and 'total eve charge'\n",
    "# 3. 'total night minutes' and 'total night charge'\n",
    "# 4. 'total intl minutes' and 'total intl charge'\n",
    "\n",
    "# Hence, I will remove them from my dataset and not consider them for model making\n",
    "\n",
    "del data['total day charge']\n",
    "del data['total eve charge']\n",
    "del data['total night charge']\n",
    "del data['total intl charge']"
   ]
  },
  {
   "cell_type": "code",
   "execution_count": 103,
   "metadata": {},
   "outputs": [
    {
     "name": "stdout",
     "output_type": "stream",
     "text": [
      "Chi-squared test for Churn and state\n",
      "The chi2 value = 83.04379191019663\n",
      "The p value = 0.002296221552011188\n",
      "The dof = 50\n",
      "        \n",
      "Chi-squared test for Churn and area code\n",
      "The chi2 value = 0.17754069117425395\n",
      "The p value = 0.9150556960243712\n",
      "The dof = 2\n",
      "        \n",
      "Chi-squared test for Churn and international plan\n",
      "The chi2 value = 222.5657566499376\n",
      "The p value = 2.4931077033159556e-50\n",
      "The dof = 1\n",
      "        \n",
      "Chi-squared test for Churn and voice mail plan\n",
      "The chi2 value = 34.13166001075673\n",
      "The p value = 5.15063965903898e-09\n",
      "The dof = 1\n",
      "        \n"
     ]
    }
   ],
   "source": [
    "# Chi-squared test for all categorical variables and 'Churn'\n",
    "\n",
    "cat_names= [\"state\",\n",
    "            \"area code\",\n",
    "            \"international plan\",\n",
    "            \"voice mail plan\",\n",
    "            ]\n",
    "\n",
    "for i in cat_names :\n",
    "    chi2,p,dof,ex = chi2_contingency(pd.crosstab(  data[i], data['Churn']  ))\n",
    "    print(\"Chi-squared test for Churn and\", i)\n",
    "    print(\"The chi2 value =\", chi2)\n",
    "    print(\"The p value =\", p)\n",
    "    print(\"The dof =\", dof)\n",
    "    print(\"        \")"
   ]
  },
  {
   "cell_type": "code",
   "execution_count": 104,
   "metadata": {},
   "outputs": [],
   "source": [
    "# After Chi-squared test we can see that the 'p-value' for 'Churn' and all variables except 'area code' is greater than 0.05\n",
    "# Hence 'area code' is not statistically significant \n",
    "# I will remove it from my dataset and not consider it for model making\n",
    "\n",
    "del data['area code']"
   ]
  },
  {
   "cell_type": "code",
   "execution_count": 105,
   "metadata": {},
   "outputs": [],
   "source": [
    "# Also deleting 'phone number' as it is just a reference variable with no real information for prediction\n",
    "del data['phone number']"
   ]
  },
  {
   "cell_type": "code",
   "execution_count": 78,
   "metadata": {},
   "outputs": [],
   "source": [
    "# Now getting the VIF values for all variables to detect multi-collinearity\n",
    "\n",
    "# To get VIF values, first I have to encode all categorical variables  "
   ]
  },
  {
   "cell_type": "code",
   "execution_count": 106,
   "metadata": {},
   "outputs": [],
   "source": [
    "# Creating a dcitionary to replace values of 'state' with numeric value\n",
    "\n",
    "State = { \n",
    "'WV' :     1,  \n",
    "'MN' :     2,\n",
    "\"NY\" :     3,\n",
    "\"AL\" :     4,\n",
    "'WI' :     5,\n",
    "'OH' :     6,\n",
    "'OR' :     7,\n",
    "'VA' :     8,\n",
    "'WY' :     9,\n",
    "'CT' :     10,\n",
    "'ID' :     11,\n",
    "'VT' :     12,\n",
    "'MI' :     13,\n",
    "'TX' :     14,\n",
    "'UT' :     15, \n",
    "'IN' :     16,\n",
    "'KS' :     17,\n",
    "'MD' :     18,\n",
    "'NC' :     19,\n",
    "'NJ' :     20, \n",
    "'MT' :     21,\n",
    "'CO' :     22,\n",
    "'NV' :     23,\n",
    "'WA' :     24,\n",
    "'MS' :     25,\n",
    "'RI' :     26,\n",
    "'MA' :     27,\n",
    "'AZ' :     28,\n",
    "'MO' :     29,\n",
    "'FL' :     30,\n",
    "'ND' :     31,\n",
    "'NM' :     32,\n",
    "'ME' :     33,\n",
    "'NE' :     34,\n",
    "'DE' :     35,\n",
    "'OK' :     36,\n",
    "'SC' :     37,\n",
    "'SD' :     38,\n",
    "'KY' :     40,\n",
    "'IL' :     41,\n",
    "'NH' :     42,\n",
    "'AR' :     43,\n",
    "'GA' :     44,\n",
    "'DC' :     45,\n",
    "'HI' :     46,\n",
    "'TN' :     47,\n",
    "'AK' :     48,\n",
    "'LA' :     49,\n",
    "'PA' :     50,\n",
    "'IA' :     51,\n",
    "'CA' :     52}"
   ]
  },
  {
   "cell_type": "code",
   "execution_count": 107,
   "metadata": {},
   "outputs": [],
   "source": [
    "# Creating a dcitionary to replace values of 'international plan' with numeric value\n",
    "\n",
    "international_plan = { ' no' : 0,\n",
    "                       ' yes' : 1}"
   ]
  },
  {
   "cell_type": "code",
   "execution_count": 108,
   "metadata": {},
   "outputs": [],
   "source": [
    "# Creating a dcitionary to replace values of 'voice mail plan' with numeric value\n",
    "\n",
    "voice_mail_plan = { ' no' : 0,\n",
    "                    ' yes' : 1}"
   ]
  },
  {
   "cell_type": "code",
   "execution_count": 110,
   "metadata": {},
   "outputs": [],
   "source": [
    "# Creating a dcitionary to replace values of 'Churn' with numeric value\n",
    "\n",
    "Churn = { ' False.' : 0,\n",
    "          ' True.'  : 1}"
   ]
  },
  {
   "cell_type": "code",
   "execution_count": 111,
   "metadata": {},
   "outputs": [],
   "source": [
    "# Replacing values of categorical variables with numerical values\n",
    "\n",
    "#Replacing values of 'state'\n",
    "data['state']= data['state'].map(State)\n",
    "\n",
    "#Replacing values of 'international plan'\n",
    "data['international plan']= data['international plan'].map(international_plan)\n",
    "\n",
    "#Replacing values of 'voice mail plan'\n",
    "data['voice mail plan']= data['voice mail plan'].map(voice_mail_plan)\n",
    "\n",
    "#Replacing values of 'Churn'\n",
    "data['Churn']= data['Churn'].map(Churn)"
   ]
  },
  {
   "cell_type": "code",
   "execution_count": 112,
   "metadata": {},
   "outputs": [
    {
     "data": {
      "text/html": [
       "<div>\n",
       "<style scoped>\n",
       "    .dataframe tbody tr th:only-of-type {\n",
       "        vertical-align: middle;\n",
       "    }\n",
       "\n",
       "    .dataframe tbody tr th {\n",
       "        vertical-align: top;\n",
       "    }\n",
       "\n",
       "    .dataframe thead th {\n",
       "        text-align: right;\n",
       "    }\n",
       "</style>\n",
       "<table border=\"1\" class=\"dataframe\">\n",
       "  <thead>\n",
       "    <tr style=\"text-align: right;\">\n",
       "      <th></th>\n",
       "      <th>state</th>\n",
       "      <th>account length</th>\n",
       "      <th>international plan</th>\n",
       "      <th>voice mail plan</th>\n",
       "      <th>number vmail messages</th>\n",
       "      <th>total day minutes</th>\n",
       "      <th>total day calls</th>\n",
       "      <th>total eve minutes</th>\n",
       "      <th>total eve calls</th>\n",
       "      <th>total night minutes</th>\n",
       "      <th>total night calls</th>\n",
       "      <th>total intl minutes</th>\n",
       "      <th>total intl calls</th>\n",
       "      <th>number customer service calls</th>\n",
       "      <th>Churn</th>\n",
       "    </tr>\n",
       "  </thead>\n",
       "  <tbody>\n",
       "    <tr>\n",
       "      <th>0</th>\n",
       "      <td>17</td>\n",
       "      <td>128</td>\n",
       "      <td>0</td>\n",
       "      <td>1</td>\n",
       "      <td>25</td>\n",
       "      <td>265.1</td>\n",
       "      <td>110</td>\n",
       "      <td>197.4</td>\n",
       "      <td>99</td>\n",
       "      <td>244.7</td>\n",
       "      <td>91</td>\n",
       "      <td>10.0</td>\n",
       "      <td>3</td>\n",
       "      <td>1</td>\n",
       "      <td>0</td>\n",
       "    </tr>\n",
       "    <tr>\n",
       "      <th>1</th>\n",
       "      <td>6</td>\n",
       "      <td>107</td>\n",
       "      <td>0</td>\n",
       "      <td>1</td>\n",
       "      <td>26</td>\n",
       "      <td>161.6</td>\n",
       "      <td>123</td>\n",
       "      <td>195.5</td>\n",
       "      <td>103</td>\n",
       "      <td>254.4</td>\n",
       "      <td>103</td>\n",
       "      <td>13.7</td>\n",
       "      <td>3</td>\n",
       "      <td>1</td>\n",
       "      <td>0</td>\n",
       "    </tr>\n",
       "    <tr>\n",
       "      <th>2</th>\n",
       "      <td>20</td>\n",
       "      <td>137</td>\n",
       "      <td>0</td>\n",
       "      <td>0</td>\n",
       "      <td>0</td>\n",
       "      <td>243.4</td>\n",
       "      <td>114</td>\n",
       "      <td>121.2</td>\n",
       "      <td>110</td>\n",
       "      <td>162.6</td>\n",
       "      <td>104</td>\n",
       "      <td>12.2</td>\n",
       "      <td>5</td>\n",
       "      <td>0</td>\n",
       "      <td>0</td>\n",
       "    </tr>\n",
       "    <tr>\n",
       "      <th>3</th>\n",
       "      <td>6</td>\n",
       "      <td>84</td>\n",
       "      <td>1</td>\n",
       "      <td>0</td>\n",
       "      <td>0</td>\n",
       "      <td>299.4</td>\n",
       "      <td>71</td>\n",
       "      <td>61.9</td>\n",
       "      <td>88</td>\n",
       "      <td>196.9</td>\n",
       "      <td>89</td>\n",
       "      <td>6.6</td>\n",
       "      <td>7</td>\n",
       "      <td>2</td>\n",
       "      <td>0</td>\n",
       "    </tr>\n",
       "    <tr>\n",
       "      <th>4</th>\n",
       "      <td>36</td>\n",
       "      <td>75</td>\n",
       "      <td>1</td>\n",
       "      <td>0</td>\n",
       "      <td>0</td>\n",
       "      <td>166.7</td>\n",
       "      <td>113</td>\n",
       "      <td>148.3</td>\n",
       "      <td>122</td>\n",
       "      <td>186.9</td>\n",
       "      <td>121</td>\n",
       "      <td>10.1</td>\n",
       "      <td>3</td>\n",
       "      <td>3</td>\n",
       "      <td>0</td>\n",
       "    </tr>\n",
       "  </tbody>\n",
       "</table>\n",
       "</div>"
      ],
      "text/plain": [
       "   state  account length  international plan  voice mail plan  \\\n",
       "0     17             128                   0                1   \n",
       "1      6             107                   0                1   \n",
       "2     20             137                   0                0   \n",
       "3      6              84                   1                0   \n",
       "4     36              75                   1                0   \n",
       "\n",
       "   number vmail messages  total day minutes  total day calls  \\\n",
       "0                     25              265.1              110   \n",
       "1                     26              161.6              123   \n",
       "2                      0              243.4              114   \n",
       "3                      0              299.4               71   \n",
       "4                      0              166.7              113   \n",
       "\n",
       "   total eve minutes  total eve calls  total night minutes  total night calls  \\\n",
       "0              197.4               99                244.7                 91   \n",
       "1              195.5              103                254.4                103   \n",
       "2              121.2              110                162.6                104   \n",
       "3               61.9               88                196.9                 89   \n",
       "4              148.3              122                186.9                121   \n",
       "\n",
       "   total intl minutes  total intl calls  number customer service calls  Churn  \n",
       "0                10.0                 3                              1      0  \n",
       "1                13.7                 3                              1      0  \n",
       "2                12.2                 5                              0      0  \n",
       "3                 6.6                 7                              2      0  \n",
       "4                10.1                 3                              3      0  "
      ]
     },
     "execution_count": 112,
     "metadata": {},
     "output_type": "execute_result"
    }
   ],
   "source": [
    "# Checking that the dataset only has numerical values\n",
    "data.head()"
   ]
  },
  {
   "cell_type": "code",
   "execution_count": 113,
   "metadata": {},
   "outputs": [
    {
     "data": {
      "text/html": [
       "<div>\n",
       "<style scoped>\n",
       "    .dataframe tbody tr th:only-of-type {\n",
       "        vertical-align: middle;\n",
       "    }\n",
       "\n",
       "    .dataframe tbody tr th {\n",
       "        vertical-align: top;\n",
       "    }\n",
       "\n",
       "    .dataframe thead th {\n",
       "        text-align: right;\n",
       "    }\n",
       "</style>\n",
       "<table border=\"1\" class=\"dataframe\">\n",
       "  <thead>\n",
       "    <tr style=\"text-align: right;\">\n",
       "      <th></th>\n",
       "      <th>VIF Factor</th>\n",
       "      <th>features</th>\n",
       "    </tr>\n",
       "  </thead>\n",
       "  <tbody>\n",
       "    <tr>\n",
       "      <th>0</th>\n",
       "      <td>148.4</td>\n",
       "      <td>const</td>\n",
       "    </tr>\n",
       "    <tr>\n",
       "      <th>1</th>\n",
       "      <td>1.0</td>\n",
       "      <td>state</td>\n",
       "    </tr>\n",
       "    <tr>\n",
       "      <th>2</th>\n",
       "      <td>1.0</td>\n",
       "      <td>account length</td>\n",
       "    </tr>\n",
       "    <tr>\n",
       "      <th>3</th>\n",
       "      <td>1.1</td>\n",
       "      <td>international plan</td>\n",
       "    </tr>\n",
       "    <tr>\n",
       "      <th>4</th>\n",
       "      <td>11.9</td>\n",
       "      <td>voice mail plan</td>\n",
       "    </tr>\n",
       "    <tr>\n",
       "      <th>5</th>\n",
       "      <td>11.9</td>\n",
       "      <td>number vmail messages</td>\n",
       "    </tr>\n",
       "    <tr>\n",
       "      <th>6</th>\n",
       "      <td>1.1</td>\n",
       "      <td>total day minutes</td>\n",
       "    </tr>\n",
       "    <tr>\n",
       "      <th>7</th>\n",
       "      <td>1.0</td>\n",
       "      <td>total day calls</td>\n",
       "    </tr>\n",
       "    <tr>\n",
       "      <th>8</th>\n",
       "      <td>1.0</td>\n",
       "      <td>total eve minutes</td>\n",
       "    </tr>\n",
       "    <tr>\n",
       "      <th>9</th>\n",
       "      <td>1.0</td>\n",
       "      <td>total eve calls</td>\n",
       "    </tr>\n",
       "    <tr>\n",
       "      <th>10</th>\n",
       "      <td>1.0</td>\n",
       "      <td>total night minutes</td>\n",
       "    </tr>\n",
       "    <tr>\n",
       "      <th>11</th>\n",
       "      <td>1.0</td>\n",
       "      <td>total night calls</td>\n",
       "    </tr>\n",
       "    <tr>\n",
       "      <th>12</th>\n",
       "      <td>1.0</td>\n",
       "      <td>total intl minutes</td>\n",
       "    </tr>\n",
       "    <tr>\n",
       "      <th>13</th>\n",
       "      <td>1.0</td>\n",
       "      <td>total intl calls</td>\n",
       "    </tr>\n",
       "    <tr>\n",
       "      <th>14</th>\n",
       "      <td>1.1</td>\n",
       "      <td>number customer service calls</td>\n",
       "    </tr>\n",
       "    <tr>\n",
       "      <th>15</th>\n",
       "      <td>1.2</td>\n",
       "      <td>Churn</td>\n",
       "    </tr>\n",
       "  </tbody>\n",
       "</table>\n",
       "</div>"
      ],
      "text/plain": [
       "    VIF Factor                       features\n",
       "0        148.4                          const\n",
       "1          1.0                          state\n",
       "2          1.0                 account length\n",
       "3          1.1             international plan\n",
       "4         11.9                voice mail plan\n",
       "5         11.9          number vmail messages\n",
       "6          1.1              total day minutes\n",
       "7          1.0                total day calls\n",
       "8          1.0              total eve minutes\n",
       "9          1.0                total eve calls\n",
       "10         1.0            total night minutes\n",
       "11         1.0              total night calls\n",
       "12         1.0             total intl minutes\n",
       "13         1.0               total intl calls\n",
       "14         1.1  number customer service calls\n",
       "15         1.2                          Churn"
      ]
     },
     "execution_count": 113,
     "metadata": {},
     "output_type": "execute_result"
    }
   ],
   "source": [
    "# Now getting the VIF values for all variables\n",
    "X = sm.add_constant(data)\n",
    "vif = pd.DataFrame()\n",
    "vif[\"VIF Factor\"] = [variance_inflation_factor(X.values, i) for i in range(X.shape[1])]\n",
    "vif[\"features\"] = X.columns\n",
    "vif.round(1)"
   ]
  },
  {
   "cell_type": "code",
   "execution_count": 114,
   "metadata": {},
   "outputs": [],
   "source": [
    "# The VIF values above 5 are an indication of presence of multi-collinearity\n",
    "# So removing 'number vmail messages'\n",
    "\n",
    "del data['number vmail messages']"
   ]
  },
  {
   "cell_type": "code",
   "execution_count": 115,
   "metadata": {},
   "outputs": [
    {
     "data": {
      "text/html": [
       "<div>\n",
       "<style scoped>\n",
       "    .dataframe tbody tr th:only-of-type {\n",
       "        vertical-align: middle;\n",
       "    }\n",
       "\n",
       "    .dataframe tbody tr th {\n",
       "        vertical-align: top;\n",
       "    }\n",
       "\n",
       "    .dataframe thead th {\n",
       "        text-align: right;\n",
       "    }\n",
       "</style>\n",
       "<table border=\"1\" class=\"dataframe\">\n",
       "  <thead>\n",
       "    <tr style=\"text-align: right;\">\n",
       "      <th></th>\n",
       "      <th>VIF Factor</th>\n",
       "      <th>features</th>\n",
       "    </tr>\n",
       "  </thead>\n",
       "  <tbody>\n",
       "    <tr>\n",
       "      <th>0</th>\n",
       "      <td>148.4</td>\n",
       "      <td>const</td>\n",
       "    </tr>\n",
       "    <tr>\n",
       "      <th>1</th>\n",
       "      <td>1.0</td>\n",
       "      <td>state</td>\n",
       "    </tr>\n",
       "    <tr>\n",
       "      <th>2</th>\n",
       "      <td>1.0</td>\n",
       "      <td>account length</td>\n",
       "    </tr>\n",
       "    <tr>\n",
       "      <th>3</th>\n",
       "      <td>1.1</td>\n",
       "      <td>international plan</td>\n",
       "    </tr>\n",
       "    <tr>\n",
       "      <th>4</th>\n",
       "      <td>1.0</td>\n",
       "      <td>voice mail plan</td>\n",
       "    </tr>\n",
       "    <tr>\n",
       "      <th>5</th>\n",
       "      <td>1.1</td>\n",
       "      <td>total day minutes</td>\n",
       "    </tr>\n",
       "    <tr>\n",
       "      <th>6</th>\n",
       "      <td>1.0</td>\n",
       "      <td>total day calls</td>\n",
       "    </tr>\n",
       "    <tr>\n",
       "      <th>7</th>\n",
       "      <td>1.0</td>\n",
       "      <td>total eve minutes</td>\n",
       "    </tr>\n",
       "    <tr>\n",
       "      <th>8</th>\n",
       "      <td>1.0</td>\n",
       "      <td>total eve calls</td>\n",
       "    </tr>\n",
       "    <tr>\n",
       "      <th>9</th>\n",
       "      <td>1.0</td>\n",
       "      <td>total night minutes</td>\n",
       "    </tr>\n",
       "    <tr>\n",
       "      <th>10</th>\n",
       "      <td>1.0</td>\n",
       "      <td>total night calls</td>\n",
       "    </tr>\n",
       "    <tr>\n",
       "      <th>11</th>\n",
       "      <td>1.0</td>\n",
       "      <td>total intl minutes</td>\n",
       "    </tr>\n",
       "    <tr>\n",
       "      <th>12</th>\n",
       "      <td>1.0</td>\n",
       "      <td>total intl calls</td>\n",
       "    </tr>\n",
       "    <tr>\n",
       "      <th>13</th>\n",
       "      <td>1.1</td>\n",
       "      <td>number customer service calls</td>\n",
       "    </tr>\n",
       "    <tr>\n",
       "      <th>14</th>\n",
       "      <td>1.2</td>\n",
       "      <td>Churn</td>\n",
       "    </tr>\n",
       "  </tbody>\n",
       "</table>\n",
       "</div>"
      ],
      "text/plain": [
       "    VIF Factor                       features\n",
       "0        148.4                          const\n",
       "1          1.0                          state\n",
       "2          1.0                 account length\n",
       "3          1.1             international plan\n",
       "4          1.0                voice mail plan\n",
       "5          1.1              total day minutes\n",
       "6          1.0                total day calls\n",
       "7          1.0              total eve minutes\n",
       "8          1.0                total eve calls\n",
       "9          1.0            total night minutes\n",
       "10         1.0              total night calls\n",
       "11         1.0             total intl minutes\n",
       "12         1.0               total intl calls\n",
       "13         1.1  number customer service calls\n",
       "14         1.2                          Churn"
      ]
     },
     "execution_count": 115,
     "metadata": {},
     "output_type": "execute_result"
    }
   ],
   "source": [
    "# Now getting the VIF values for all variables after removing 'number vmail messages'\n",
    "X = sm.add_constant(data)\n",
    "vif = pd.DataFrame()\n",
    "vif[\"VIF Factor\"] = [variance_inflation_factor(X.values, i) for i in range(X.shape[1])]\n",
    "vif[\"features\"] = X.columns\n",
    "vif.round(1)"
   ]
  },
  {
   "cell_type": "code",
   "execution_count": 116,
   "metadata": {},
   "outputs": [],
   "source": [
    "# Now all the VIF values are close to 1\n",
    "# So there is no multi-collinearity among predictor variables\n",
    "\n",
    "# Hence, the final Varialbes selected for final model are :\n",
    "# 1. 'state', \n",
    "# 2. 'account length', \n",
    "# 3. 'international plan',\n",
    "# 4. 'voice mail plan', \n",
    "# 5. 'total day minutes', \n",
    "# 6. 'total day calls',\n",
    "# 7. 'total eve minutes', \n",
    "# 8. 'total eve calls', \n",
    "# 9. 'total night minutes',\n",
    "# 10. 'total night calls', \n",
    "# 11. 'total intl minutes', \n",
    "# 12. 'total intl calls',\n",
    "# 13. 'number customer service calls', "
   ]
  },
  {
   "cell_type": "code",
   "execution_count": 117,
   "metadata": {},
   "outputs": [],
   "source": [
    "# Storing the names of all predictor variables\n",
    "\n",
    "cnames = [ 'state', \n",
    "           'account length', \n",
    "           'international plan',\n",
    "           'voice mail plan', \n",
    "           'total day minutes', \n",
    "           'total day calls',\n",
    "           'total eve minutes', \n",
    "           'total eve calls', \n",
    "           'total night minutes',\n",
    "           'total night calls', \n",
    "           'total intl minutes', \n",
    "           'total intl calls',\n",
    "           'number customer service calls']"
   ]
  },
  {
   "cell_type": "code",
   "execution_count": 118,
   "metadata": {},
   "outputs": [],
   "source": [
    "# Creating a new dataframe 'train_data' such that :\n",
    "# It's first column is target variable 'Churn'\n",
    "# All subsequent columns are predictor variables\n",
    "\n",
    "train_data=pd.DataFrame(data['Churn'])\n",
    "train_data=train_data.join(data[cnames])"
   ]
  },
  {
   "cell_type": "code",
   "execution_count": 119,
   "metadata": {},
   "outputs": [
    {
     "name": "stdout",
     "output_type": "stream",
     "text": [
      "<class 'pandas.core.frame.DataFrame'>\n",
      "RangeIndex: 3333 entries, 0 to 3332\n",
      "Data columns (total 14 columns):\n",
      "Churn                            3333 non-null int64\n",
      "state                            3333 non-null int64\n",
      "account length                   3333 non-null int64\n",
      "international plan               3333 non-null int64\n",
      "voice mail plan                  3333 non-null int64\n",
      "total day minutes                3333 non-null float64\n",
      "total day calls                  3333 non-null int64\n",
      "total eve minutes                3333 non-null float64\n",
      "total eve calls                  3333 non-null int64\n",
      "total night minutes              3333 non-null float64\n",
      "total night calls                3333 non-null int64\n",
      "total intl minutes               3333 non-null float64\n",
      "total intl calls                 3333 non-null int64\n",
      "number customer service calls    3333 non-null int64\n",
      "dtypes: float64(4), int64(10)\n",
      "memory usage: 364.6 KB\n"
     ]
    }
   ],
   "source": [
    "# Checking number of columns in 'train_data'\n",
    "train_data.info()"
   ]
  },
  {
   "cell_type": "code",
   "execution_count": 120,
   "metadata": {},
   "outputs": [],
   "source": [
    "# Subsetting 'train_data' such that : \n",
    "# X contains all the predictor variables\n",
    "# Y contains the target variable\n",
    "\n",
    "X=train_data.values[:,1:14]\n",
    "Y=train_data.values[:,0]"
   ]
  },
  {
   "cell_type": "code",
   "execution_count": 121,
   "metadata": {},
   "outputs": [],
   "source": [
    "#Split train_data for modelling\n",
    "X_train, X_test, Y_train, Y_test = train_test_split(X, Y, test_size=0.25)"
   ]
  },
  {
   "cell_type": "code",
   "execution_count": null,
   "metadata": {},
   "outputs": [],
   "source": [
    "###########################    Logistic Regression Model    ########################### "
   ]
  },
  {
   "cell_type": "code",
   "execution_count": 122,
   "metadata": {},
   "outputs": [
    {
     "name": "stdout",
     "output_type": "stream",
     "text": [
      "Optimization terminated successfully.\n",
      "         Current function value: 0.349279\n",
      "         Iterations 7\n"
     ]
    },
    {
     "data": {
      "text/html": [
       "<table class=\"simpletable\">\n",
       "<caption>Logit Regression Results</caption>\n",
       "<tr>\n",
       "  <th>Dep. Variable:</th>         <td>y</td>        <th>  No. Observations:  </th>  <td>  2499</td>  \n",
       "</tr>\n",
       "<tr>\n",
       "  <th>Model:</th>               <td>Logit</td>      <th>  Df Residuals:      </th>  <td>  2486</td>  \n",
       "</tr>\n",
       "<tr>\n",
       "  <th>Method:</th>               <td>MLE</td>       <th>  Df Model:          </th>  <td>    12</td>  \n",
       "</tr>\n",
       "<tr>\n",
       "  <th>Date:</th>          <td>Wed, 22 May 2019</td> <th>  Pseudo R-squ.:     </th>  <td>0.1600</td>  \n",
       "</tr>\n",
       "<tr>\n",
       "  <th>Time:</th>              <td>20:13:07</td>     <th>  Log-Likelihood:    </th> <td> -872.85</td> \n",
       "</tr>\n",
       "<tr>\n",
       "  <th>converged:</th>           <td>True</td>       <th>  LL-Null:           </th> <td> -1039.1</td> \n",
       "</tr>\n",
       "<tr>\n",
       "  <th> </th>                      <td> </td>        <th>  LLR p-value:       </th> <td>6.771e-64</td>\n",
       "</tr>\n",
       "</table>\n",
       "<table class=\"simpletable\">\n",
       "<tr>\n",
       "   <td></td>      <th>coef</th>     <th>std err</th>      <th>z</th>      <th>P>|z|</th>  <th>[0.025</th>    <th>0.975]</th>  \n",
       "</tr>\n",
       "<tr>\n",
       "  <th>x1</th>  <td>   -0.0072</td> <td>    0.004</td> <td>   -1.722</td> <td> 0.085</td> <td>   -0.015</td> <td>    0.001</td>\n",
       "</tr>\n",
       "<tr>\n",
       "  <th>x2</th>  <td>   -0.0015</td> <td>    0.002</td> <td>   -0.975</td> <td> 0.330</td> <td>   -0.004</td> <td>    0.001</td>\n",
       "</tr>\n",
       "<tr>\n",
       "  <th>x3</th>  <td>    1.9775</td> <td>    0.163</td> <td>   12.129</td> <td> 0.000</td> <td>    1.658</td> <td>    2.297</td>\n",
       "</tr>\n",
       "<tr>\n",
       "  <th>x4</th>  <td>   -0.9146</td> <td>    0.161</td> <td>   -5.672</td> <td> 0.000</td> <td>   -1.231</td> <td>   -0.599</td>\n",
       "</tr>\n",
       "<tr>\n",
       "  <th>x5</th>  <td>    0.0085</td> <td>    0.001</td> <td>    7.650</td> <td> 0.000</td> <td>    0.006</td> <td>    0.011</td>\n",
       "</tr>\n",
       "<tr>\n",
       "  <th>x6</th>  <td>   -0.0102</td> <td>    0.003</td> <td>   -3.663</td> <td> 0.000</td> <td>   -0.016</td> <td>   -0.005</td>\n",
       "</tr>\n",
       "<tr>\n",
       "  <th>x7</th>  <td>    0.0018</td> <td>    0.001</td> <td>    1.594</td> <td> 0.111</td> <td>   -0.000</td> <td>    0.004</td>\n",
       "</tr>\n",
       "<tr>\n",
       "  <th>x8</th>  <td>   -0.0122</td> <td>    0.003</td> <td>   -4.260</td> <td> 0.000</td> <td>   -0.018</td> <td>   -0.007</td>\n",
       "</tr>\n",
       "<tr>\n",
       "  <th>x9</th>  <td>   -0.0004</td> <td>    0.001</td> <td>   -0.372</td> <td> 0.710</td> <td>   -0.003</td> <td>    0.002</td>\n",
       "</tr>\n",
       "<tr>\n",
       "  <th>x10</th> <td>   -0.0133</td> <td>    0.003</td> <td>   -4.542</td> <td> 0.000</td> <td>   -0.019</td> <td>   -0.008</td>\n",
       "</tr>\n",
       "<tr>\n",
       "  <th>x11</th> <td>   -0.0115</td> <td>    0.021</td> <td>   -0.536</td> <td> 0.592</td> <td>   -0.054</td> <td>    0.031</td>\n",
       "</tr>\n",
       "<tr>\n",
       "  <th>x12</th> <td>   -0.1286</td> <td>    0.028</td> <td>   -4.540</td> <td> 0.000</td> <td>   -0.184</td> <td>   -0.073</td>\n",
       "</tr>\n",
       "<tr>\n",
       "  <th>x13</th> <td>    0.4420</td> <td>    0.042</td> <td>   10.425</td> <td> 0.000</td> <td>    0.359</td> <td>    0.525</td>\n",
       "</tr>\n",
       "</table>"
      ],
      "text/plain": [
       "<class 'statsmodels.iolib.summary.Summary'>\n",
       "\"\"\"\n",
       "                           Logit Regression Results                           \n",
       "==============================================================================\n",
       "Dep. Variable:                      y   No. Observations:                 2499\n",
       "Model:                          Logit   Df Residuals:                     2486\n",
       "Method:                           MLE   Df Model:                           12\n",
       "Date:                Wed, 22 May 2019   Pseudo R-squ.:                  0.1600\n",
       "Time:                        20:13:07   Log-Likelihood:                -872.85\n",
       "converged:                       True   LL-Null:                       -1039.1\n",
       "                                        LLR p-value:                 6.771e-64\n",
       "==============================================================================\n",
       "                 coef    std err          z      P>|z|      [0.025      0.975]\n",
       "------------------------------------------------------------------------------\n",
       "x1            -0.0072      0.004     -1.722      0.085      -0.015       0.001\n",
       "x2            -0.0015      0.002     -0.975      0.330      -0.004       0.001\n",
       "x3             1.9775      0.163     12.129      0.000       1.658       2.297\n",
       "x4            -0.9146      0.161     -5.672      0.000      -1.231      -0.599\n",
       "x5             0.0085      0.001      7.650      0.000       0.006       0.011\n",
       "x6            -0.0102      0.003     -3.663      0.000      -0.016      -0.005\n",
       "x7             0.0018      0.001      1.594      0.111      -0.000       0.004\n",
       "x8            -0.0122      0.003     -4.260      0.000      -0.018      -0.007\n",
       "x9            -0.0004      0.001     -0.372      0.710      -0.003       0.002\n",
       "x10           -0.0133      0.003     -4.542      0.000      -0.019      -0.008\n",
       "x11           -0.0115      0.021     -0.536      0.592      -0.054       0.031\n",
       "x12           -0.1286      0.028     -4.540      0.000      -0.184      -0.073\n",
       "x13            0.4420      0.042     10.425      0.000       0.359       0.525\n",
       "==============================================================================\n",
       "\"\"\""
      ]
     },
     "execution_count": 122,
     "metadata": {},
     "output_type": "execute_result"
    }
   ],
   "source": [
    "# Training the Logistic Regression Model\n",
    "lrmodel=sm.Logit( Y_train, X_train).fit()\n",
    "lrmodel.summary()"
   ]
  },
  {
   "cell_type": "code",
   "execution_count": 123,
   "metadata": {},
   "outputs": [],
   "source": [
    "# Making predictions for Logistic Regression Model\n",
    "pred_lr=lrmodel.predict(X_test)"
   ]
  },
  {
   "cell_type": "code",
   "execution_count": 124,
   "metadata": {},
   "outputs": [
    {
     "name": "stderr",
     "output_type": "stream",
     "text": [
      "E:\\Python\\Anaconda3\\lib\\site-packages\\scipy\\stats\\stats.py:1713: FutureWarning: Using a non-tuple sequence for multidimensional indexing is deprecated; use `arr[tuple(seq)]` instead of `arr[seq]`. In the future this will be interpreted as an array index, `arr[np.array(seq)]`, which will result either in an error or a different result.\n",
      "  return np.add.reduce(sorted[indexer] * weights, axis=axis) / sumval\n"
     ]
    },
    {
     "data": {
      "text/plain": [
       "<matplotlib.axes._subplots.AxesSubplot at 0x21797fc09e8>"
      ]
     },
     "execution_count": 124,
     "metadata": {},
     "output_type": "execute_result"
    },
    {
     "data": {
      "image/png": "[encoded data removed]",
      "text/plain": [
       "<Figure size 432x288 with 1 Axes>"
      ]
     },
     "metadata": {},
     "output_type": "display_data"
    }
   ],
   "source": [
    "sns.distplot(pred_lr)"
   ]
  },
  {
   "cell_type": "code",
   "execution_count": 125,
   "metadata": {},
   "outputs": [
    {
     "data": {
      "text/plain": [
       "0.1959260222877276"
      ]
     },
     "execution_count": 125,
     "metadata": {},
     "output_type": "execute_result"
    }
   ],
   "source": [
    "# Getting the value of median of pred_lr\n",
    "np.percentile( pred_lr, 75)"
   ]
  },
  {
   "cell_type": "code",
   "execution_count": 126,
   "metadata": {},
   "outputs": [],
   "source": [
    "# Setting the  threshold of Logistic Regression Model as 0.1959260222877276\n",
    "# This means all values greater than 0.1959260222877276 are converted to 1\n",
    "# And all values lower than 0.1959260222877276 are converted to 0\n",
    "\n",
    "pred_lr = np.where( pred_lr>= 0.1959260222877276, 1,0 )"
   ]
  },
  {
   "cell_type": "code",
   "execution_count": 127,
   "metadata": {},
   "outputs": [
    {
     "data": {
      "text/html": [
       "<div>\n",
       "<style scoped>\n",
       "    .dataframe tbody tr th:only-of-type {\n",
       "        vertical-align: middle;\n",
       "    }\n",
       "\n",
       "    .dataframe tbody tr th {\n",
       "        vertical-align: top;\n",
       "    }\n",
       "\n",
       "    .dataframe thead th {\n",
       "        text-align: right;\n",
       "    }\n",
       "</style>\n",
       "<table border=\"1\" class=\"dataframe\">\n",
       "  <thead>\n",
       "    <tr style=\"text-align: right;\">\n",
       "      <th>col_0</th>\n",
       "      <th>0</th>\n",
       "      <th>1</th>\n",
       "    </tr>\n",
       "    <tr>\n",
       "      <th>row_0</th>\n",
       "      <th></th>\n",
       "      <th></th>\n",
       "    </tr>\n",
       "  </thead>\n",
       "  <tbody>\n",
       "    <tr>\n",
       "      <th>0.0</th>\n",
       "      <td>576</td>\n",
       "      <td>140</td>\n",
       "    </tr>\n",
       "    <tr>\n",
       "      <th>1.0</th>\n",
       "      <td>49</td>\n",
       "      <td>69</td>\n",
       "    </tr>\n",
       "  </tbody>\n",
       "</table>\n",
       "</div>"
      ],
      "text/plain": [
       "col_0    0    1\n",
       "row_0          \n",
       "0.0    576  140\n",
       "1.0     49   69"
      ]
     },
     "execution_count": 127,
     "metadata": {},
     "output_type": "execute_result"
    }
   ],
   "source": [
    "#Confusion Matrix for Logistic Regression Model\n",
    "pd.crosstab(Y_test , pred_lr)"
   ]
  },
  {
   "cell_type": "code",
   "execution_count": 128,
   "metadata": {},
   "outputs": [
    {
     "name": "stdout",
     "output_type": "stream",
     "text": [
      "AUROC : Logistic Regression Model  = 0.6946075182274407\n"
     ]
    }
   ],
   "source": [
    "# Area under ROC curve for Logistic Regression Model\n",
    "\n",
    "fpr, tpr, thre= metrics.roc_curve(Y_test , pred_lr)\n",
    "auc_lr =  metrics.auc(fpr, tpr)\n",
    "\n",
    "print ('AUROC : Logistic Regression Model  =', auc_lr)"
   ]
  },
  {
   "cell_type": "code",
   "execution_count": null,
   "metadata": {},
   "outputs": [],
   "source": [
    "###########################    Decision Tree Model    ########################### "
   ]
  },
  {
   "cell_type": "code",
   "execution_count": 129,
   "metadata": {},
   "outputs": [],
   "source": [
    "# Training the Decision Tree Model\n",
    "dt_model = tree.DecisionTreeClassifier(criterion='gini').fit(X_train,Y_train) "
   ]
  },
  {
   "cell_type": "code",
   "execution_count": 130,
   "metadata": {},
   "outputs": [
    {
     "data": {
      "text/html": [
       "<div>\n",
       "<style scoped>\n",
       "    .dataframe tbody tr th:only-of-type {\n",
       "        vertical-align: middle;\n",
       "    }\n",
       "\n",
       "    .dataframe tbody tr th {\n",
       "        vertical-align: top;\n",
       "    }\n",
       "\n",
       "    .dataframe thead th {\n",
       "        text-align: right;\n",
       "    }\n",
       "</style>\n",
       "<table border=\"1\" class=\"dataframe\">\n",
       "  <thead>\n",
       "    <tr style=\"text-align: right;\">\n",
       "      <th>col_0</th>\n",
       "      <th>0.0</th>\n",
       "      <th>1.0</th>\n",
       "    </tr>\n",
       "    <tr>\n",
       "      <th>row_0</th>\n",
       "      <th></th>\n",
       "      <th></th>\n",
       "    </tr>\n",
       "  </thead>\n",
       "  <tbody>\n",
       "    <tr>\n",
       "      <th>0.0</th>\n",
       "      <td>681</td>\n",
       "      <td>35</td>\n",
       "    </tr>\n",
       "    <tr>\n",
       "      <th>1.0</th>\n",
       "      <td>30</td>\n",
       "      <td>88</td>\n",
       "    </tr>\n",
       "  </tbody>\n",
       "</table>\n",
       "</div>"
      ],
      "text/plain": [
       "col_0  0.0  1.0\n",
       "row_0          \n",
       "0.0    681   35\n",
       "1.0     30   88"
      ]
     },
     "execution_count": 130,
     "metadata": {},
     "output_type": "execute_result"
    }
   ],
   "source": [
    "# Predictions for Decision Tree Model\n",
    "pred_dt= dt_model.predict( X_test )\n",
    "\n",
    "# Confusion Matrix for Decision Tree Model\n",
    "pd.crosstab(Y_test , pred_dt)"
   ]
  },
  {
   "cell_type": "code",
   "execution_count": 131,
   "metadata": {},
   "outputs": [
    {
     "name": "stdout",
     "output_type": "stream",
     "text": [
      "AUROC : Decision Tree Model = 0.8484400151500805\n"
     ]
    }
   ],
   "source": [
    "# Area under ROC curve for Decision Tree Model\n",
    "\n",
    "fpr, tpr, thre= metrics.roc_curve(Y_test , pred_dt)\n",
    "auc_dt =  metrics.auc(fpr, tpr)\n",
    "\n",
    "print ('AUROC : Decision Tree Model =', auc_dt )"
   ]
  },
  {
   "cell_type": "code",
   "execution_count": null,
   "metadata": {},
   "outputs": [],
   "source": [
    "###########################    Random Forest Classifier Model    ########################### "
   ]
  },
  {
   "cell_type": "code",
   "execution_count": 132,
   "metadata": {},
   "outputs": [],
   "source": [
    "rf_model = RandomForestClassifier(n_estimators=100)"
   ]
  },
  {
   "cell_type": "code",
   "execution_count": 133,
   "metadata": {},
   "outputs": [
    {
     "data": {
      "text/plain": [
       "RandomForestClassifier(bootstrap=True, class_weight=None, criterion='gini',\n",
       "            max_depth=None, max_features='auto', max_leaf_nodes=None,\n",
       "            min_impurity_decrease=0.0, min_impurity_split=None,\n",
       "            min_samples_leaf=1, min_samples_split=2,\n",
       "            min_weight_fraction_leaf=0.0, n_estimators=100, n_jobs=None,\n",
       "            oob_score=False, random_state=None, verbose=0,\n",
       "            warm_start=False)"
      ]
     },
     "execution_count": 133,
     "metadata": {},
     "output_type": "execute_result"
    }
   ],
   "source": [
    "# Training the Random Forest Classifier Model\n",
    "rf_model.fit(X_train , Y_train )"
   ]
  },
  {
   "cell_type": "code",
   "execution_count": 134,
   "metadata": {},
   "outputs": [
    {
     "data": {
      "text/html": [
       "<div>\n",
       "<style scoped>\n",
       "    .dataframe tbody tr th:only-of-type {\n",
       "        vertical-align: middle;\n",
       "    }\n",
       "\n",
       "    .dataframe tbody tr th {\n",
       "        vertical-align: top;\n",
       "    }\n",
       "\n",
       "    .dataframe thead th {\n",
       "        text-align: right;\n",
       "    }\n",
       "</style>\n",
       "<table border=\"1\" class=\"dataframe\">\n",
       "  <thead>\n",
       "    <tr style=\"text-align: right;\">\n",
       "      <th>col_0</th>\n",
       "      <th>0.0</th>\n",
       "      <th>1.0</th>\n",
       "    </tr>\n",
       "    <tr>\n",
       "      <th>row_0</th>\n",
       "      <th></th>\n",
       "      <th></th>\n",
       "    </tr>\n",
       "  </thead>\n",
       "  <tbody>\n",
       "    <tr>\n",
       "      <th>0.0</th>\n",
       "      <td>713</td>\n",
       "      <td>3</td>\n",
       "    </tr>\n",
       "    <tr>\n",
       "      <th>1.0</th>\n",
       "      <td>34</td>\n",
       "      <td>84</td>\n",
       "    </tr>\n",
       "  </tbody>\n",
       "</table>\n",
       "</div>"
      ],
      "text/plain": [
       "col_0  0.0  1.0\n",
       "row_0          \n",
       "0.0    713    3\n",
       "1.0     34   84"
      ]
     },
     "execution_count": 134,
     "metadata": {},
     "output_type": "execute_result"
    }
   ],
   "source": [
    "# Making predictions with Random Forest Classifier Model\n",
    "pred_rf = rf_model.predict(X_test)\n",
    "\n",
    "# Confusion Matrix for Random Forest Classifier Model\n",
    "pd.crosstab(Y_test , pred_rf)"
   ]
  },
  {
   "cell_type": "code",
   "execution_count": 135,
   "metadata": {},
   "outputs": [
    {
     "name": "stdout",
     "output_type": "stream",
     "text": [
      "AUROC : Random Forest Classifier Model = 0.8538372313227913\n"
     ]
    }
   ],
   "source": [
    "# Area under ROC curve for Random Forest Classifier Model\n",
    "\n",
    "fpr, tpr, thre= metrics.roc_curve(Y_test , pred_rf)\n",
    "auc_rf = metrics.auc(fpr, tpr)\n",
    "\n",
    "print ('AUROC : Random Forest Classifier Model =', auc_rf )"
   ]
  },
  {
   "cell_type": "code",
   "execution_count": 136,
   "metadata": {},
   "outputs": [
    {
     "data": {
      "text/plain": [
       "total day minutes                0.252753\n",
       "number customer service calls    0.126969\n",
       "total eve minutes                0.100377\n",
       "total intl minutes               0.070653\n",
       "international plan               0.070333\n",
       "total night minutes              0.059891\n",
       "total intl calls                 0.056107\n",
       "account length                   0.050023\n",
       "total day calls                  0.049638\n",
       "total night calls                0.047860\n",
       "total eve calls                  0.044705\n",
       "state                            0.043646\n",
       "voice mail plan                  0.027045\n",
       "dtype: float64"
      ]
     },
     "execution_count": 136,
     "metadata": {},
     "output_type": "execute_result"
    }
   ],
   "source": [
    "# Getting the Feature Importance\n",
    "\n",
    "feature_imp = pd.Series(rf_model.feature_importances_, index = data[cnames].columns ).sort_values(ascending=False)\n",
    "feature_imp"
   ]
  },
  {
   "cell_type": "code",
   "execution_count": 137,
   "metadata": {},
   "outputs": [
    {
     "data": {
      "image/png": "[encoded data removed]",
      "text/plain": [
       "<Figure size 432x288 with 1 Axes>"
      ]
     },
     "metadata": {},
     "output_type": "display_data"
    }
   ],
   "source": [
    "# Visualizing the Feature Importance\n",
    "sns.barplot(x=feature_imp, y=feature_imp.index)\n",
    "\n",
    "# Adding labels to the graph\n",
    "plt.xlabel('Feature Importance Score')\n",
    "plt.ylabel('Features')\n",
    "plt.title(\"Visualizing Important Features\")\n",
    "plt.show()"
   ]
  },
  {
   "cell_type": "code",
   "execution_count": 138,
   "metadata": {},
   "outputs": [],
   "source": [
    "# Tuniing Hyperparameters of Random Forest Classifier Model\n",
    "\n",
    "# Defining the parameter grid\n",
    "param_grid = {\n",
    "    'n_estimators': [100, 200,500],\n",
    "    'criterion' : ['gini' , 'entropy'],\n",
    "    'max_features': ['sqrt' ,None,  .5, .7],\n",
    "    'max_depth':[ 3, 4, 6, None],\n",
    "    'bootstrap': [True],\n",
    "    'class_weight' : ['balanced'],\n",
    "}"
   ]
  },
  {
   "cell_type": "code",
   "execution_count": 139,
   "metadata": {},
   "outputs": [],
   "source": [
    "# Initialize an instance of RandomForestClassifier\n",
    "rf_tune = RandomForestClassifier()"
   ]
  },
  {
   "cell_type": "code",
   "execution_count": 140,
   "metadata": {},
   "outputs": [],
   "source": [
    "# Setting up GridSearch with 3-fold cross validation\n",
    "rf_tune_model = GridSearchCV(estimator=rf_tune, \n",
    "                             param_grid=param_grid,\n",
    "                             scoring = 'roc_auc',\n",
    "                             verbose= 5,\n",
    "                             n_jobs= -1,\n",
    "                             cv=3,\n",
    "                            )"
   ]
  },
  {
   "cell_type": "code",
   "execution_count": 141,
   "metadata": {},
   "outputs": [
    {
     "name": "stdout",
     "output_type": "stream",
     "text": [
      "Fitting 3 folds for each of 96 candidates, totalling 288 fits\n"
     ]
    },
    {
     "name": "stderr",
     "output_type": "stream",
     "text": [
      "[Parallel(n_jobs=-1)]: Using backend LokyBackend with 8 concurrent workers.\n",
      "[Parallel(n_jobs=-1)]: Done   2 tasks      | elapsed:    2.9s\n",
      "[Parallel(n_jobs=-1)]: Done  56 tasks      | elapsed:   15.3s\n",
      "[Parallel(n_jobs=-1)]: Done 146 tasks      | elapsed:   43.7s\n",
      "[Parallel(n_jobs=-1)]: Done 272 tasks      | elapsed:  1.5min\n",
      "[Parallel(n_jobs=-1)]: Done 288 out of 288 | elapsed:  1.7min finished\n"
     ]
    },
    {
     "data": {
      "text/plain": [
       "GridSearchCV(cv=3, error_score='raise-deprecating',\n",
       "       estimator=RandomForestClassifier(bootstrap=True, class_weight=None, criterion='gini',\n",
       "            max_depth=None, max_features='auto', max_leaf_nodes=None,\n",
       "            min_impurity_decrease=0.0, min_impurity_split=None,\n",
       "            min_samples_leaf=1, min_samples_split=2,\n",
       "            min_weight_fraction_leaf=0.0, n_estimators='warn', n_jobs=None,\n",
       "            oob_score=False, random_state=None, verbose=0,\n",
       "            warm_start=False),\n",
       "       fit_params=None, iid='warn', n_jobs=-1,\n",
       "       param_grid={'n_estimators': [100, 200, 500], 'criterion': ['gini', 'entropy'], 'max_features': ['sqrt', None, 0.5, 0.7], 'max_depth': [3, 4, 6, None], 'bootstrap': [True], 'class_weight': ['balanced']},\n",
       "       pre_dispatch='2*n_jobs', refit=True, return_train_score='warn',\n",
       "       scoring='roc_auc', verbose=5)"
      ]
     },
     "execution_count": 141,
     "metadata": {},
     "output_type": "execute_result"
    }
   ],
   "source": [
    "# Fitting the tuned model\n",
    "rf_tune_model.fit ( X_train , Y_train  )"
   ]
  },
  {
   "cell_type": "code",
   "execution_count": 142,
   "metadata": {},
   "outputs": [
    {
     "data": {
      "text/plain": [
       "{'bootstrap': True,\n",
       " 'class_weight': 'balanced',\n",
       " 'criterion': 'entropy',\n",
       " 'max_depth': 6,\n",
       " 'max_features': 0.5,\n",
       " 'n_estimators': 500}"
      ]
     },
     "execution_count": 142,
     "metadata": {},
     "output_type": "execute_result"
    }
   ],
   "source": [
    "# Getting best parameters after tuning hyperparameters of Random Forest Classifier\n",
    "rf_tune_model.best_params_"
   ]
  },
  {
   "cell_type": "code",
   "execution_count": 143,
   "metadata": {},
   "outputs": [],
   "source": [
    "# Creating an instance of Random Forest Classifier with best hyperparameters\n",
    "best_rf = RandomForestClassifier( bootstrap=True,\n",
    "                                class_weight= 'balanced' ,\n",
    "                                criterion= 'entropy' ,\n",
    "                                max_depth= 6 ,\n",
    "                                max_features= 0.5 ,\n",
    "                                n_estimators= 500)"
   ]
  },
  {
   "cell_type": "code",
   "execution_count": 144,
   "metadata": {},
   "outputs": [
    {
     "data": {
      "text/plain": [
       "RandomForestClassifier(bootstrap=True, class_weight='balanced',\n",
       "            criterion='entropy', max_depth=6, max_features=0.5,\n",
       "            max_leaf_nodes=None, min_impurity_decrease=0.0,\n",
       "            min_impurity_split=None, min_samples_leaf=1,\n",
       "            min_samples_split=2, min_weight_fraction_leaf=0.0,\n",
       "            n_estimators=500, n_jobs=None, oob_score=False,\n",
       "            random_state=None, verbose=0, warm_start=False)"
      ]
     },
     "execution_count": 144,
     "metadata": {},
     "output_type": "execute_result"
    }
   ],
   "source": [
    "# Fitting the model of Random Forest Classifier with best hyperparameters\n",
    "best_rf.fit ( X_train , Y_train  )"
   ]
  },
  {
   "cell_type": "code",
   "execution_count": 145,
   "metadata": {},
   "outputs": [
    {
     "data": {
      "text/html": [
       "<div>\n",
       "<style scoped>\n",
       "    .dataframe tbody tr th:only-of-type {\n",
       "        vertical-align: middle;\n",
       "    }\n",
       "\n",
       "    .dataframe tbody tr th {\n",
       "        vertical-align: top;\n",
       "    }\n",
       "\n",
       "    .dataframe thead th {\n",
       "        text-align: right;\n",
       "    }\n",
       "</style>\n",
       "<table border=\"1\" class=\"dataframe\">\n",
       "  <thead>\n",
       "    <tr style=\"text-align: right;\">\n",
       "      <th>col_0</th>\n",
       "      <th>0.0</th>\n",
       "      <th>1.0</th>\n",
       "    </tr>\n",
       "    <tr>\n",
       "      <th>row_0</th>\n",
       "      <th></th>\n",
       "      <th></th>\n",
       "    </tr>\n",
       "  </thead>\n",
       "  <tbody>\n",
       "    <tr>\n",
       "      <th>0.0</th>\n",
       "      <td>698</td>\n",
       "      <td>18</td>\n",
       "    </tr>\n",
       "    <tr>\n",
       "      <th>1.0</th>\n",
       "      <td>22</td>\n",
       "      <td>96</td>\n",
       "    </tr>\n",
       "  </tbody>\n",
       "</table>\n",
       "</div>"
      ],
      "text/plain": [
       "col_0  0.0  1.0\n",
       "row_0          \n",
       "0.0    698   18\n",
       "1.0     22   96"
      ]
     },
     "execution_count": 145,
     "metadata": {},
     "output_type": "execute_result"
    }
   ],
   "source": [
    "# Making predictions with Random Forest Classifier Model after tuning hyperparameters\n",
    "pred_best_rf = best_rf.predict(X_test)\n",
    "\n",
    "# Confusion Matrix for Random Forest Classifier Model after tuning hyperparameters\n",
    "pd.crosstab(Y_test , pred_best_rf)"
   ]
  },
  {
   "cell_type": "code",
   "execution_count": 146,
   "metadata": {},
   "outputs": [
    {
     "name": "stdout",
     "output_type": "stream",
     "text": [
      "AUROC : Random Forest Classifier Model after tuning hyperparameters = 0.8942098286147145\n"
     ]
    }
   ],
   "source": [
    "# Area under ROC curve for Random Forest Classifier Model after tuning hyperparameters\n",
    "\n",
    "fpr, tpr, thre= metrics.roc_curve(Y_test , pred_best_rf)\n",
    "auc_best_rf = metrics.auc(fpr, tpr)\n",
    "\n",
    "print ('AUROC : Random Forest Classifier Model after tuning hyperparameters =', auc_best_rf)"
   ]
  },
  {
   "cell_type": "code",
   "execution_count": null,
   "metadata": {},
   "outputs": [],
   "source": [
    "###########################    XGBOOST Classifier Model    ########################### "
   ]
  },
  {
   "cell_type": "code",
   "execution_count": 147,
   "metadata": {},
   "outputs": [],
   "source": [
    "xgb_model = XGBClassifier()"
   ]
  },
  {
   "cell_type": "code",
   "execution_count": 148,
   "metadata": {},
   "outputs": [
    {
     "data": {
      "text/plain": [
       "XGBClassifier(base_score=0.5, booster='gbtree', colsample_bylevel=1,\n",
       "       colsample_bytree=1, gamma=0, learning_rate=0.1, max_delta_step=0,\n",
       "       max_depth=3, min_child_weight=1, missing=None, n_estimators=100,\n",
       "       n_jobs=1, nthread=None, objective='binary:logistic', random_state=0,\n",
       "       reg_alpha=0, reg_lambda=1, scale_pos_weight=1, seed=None,\n",
       "       silent=True, subsample=1)"
      ]
     },
     "execution_count": 148,
     "metadata": {},
     "output_type": "execute_result"
    }
   ],
   "source": [
    "# Training the model\n",
    "xgb_model.fit(X_train, Y_train)"
   ]
  },
  {
   "cell_type": "code",
   "execution_count": 149,
   "metadata": {},
   "outputs": [
    {
     "data": {
      "text/html": [
       "<div>\n",
       "<style scoped>\n",
       "    .dataframe tbody tr th:only-of-type {\n",
       "        vertical-align: middle;\n",
       "    }\n",
       "\n",
       "    .dataframe tbody tr th {\n",
       "        vertical-align: top;\n",
       "    }\n",
       "\n",
       "    .dataframe thead th {\n",
       "        text-align: right;\n",
       "    }\n",
       "</style>\n",
       "<table border=\"1\" class=\"dataframe\">\n",
       "  <thead>\n",
       "    <tr style=\"text-align: right;\">\n",
       "      <th>col_0</th>\n",
       "      <th>0.0</th>\n",
       "      <th>1.0</th>\n",
       "    </tr>\n",
       "    <tr>\n",
       "      <th>row_0</th>\n",
       "      <th></th>\n",
       "      <th></th>\n",
       "    </tr>\n",
       "  </thead>\n",
       "  <tbody>\n",
       "    <tr>\n",
       "      <th>0.0</th>\n",
       "      <td>708</td>\n",
       "      <td>8</td>\n",
       "    </tr>\n",
       "    <tr>\n",
       "      <th>1.0</th>\n",
       "      <td>29</td>\n",
       "      <td>89</td>\n",
       "    </tr>\n",
       "  </tbody>\n",
       "</table>\n",
       "</div>"
      ],
      "text/plain": [
       "col_0  0.0  1.0\n",
       "row_0          \n",
       "0.0    708    8\n",
       "1.0     29   89"
      ]
     },
     "execution_count": 149,
     "metadata": {},
     "output_type": "execute_result"
    }
   ],
   "source": [
    "# Making predictions with XGBoost Model \n",
    "pred_xgb = xgb_model.predict(X_test)\n",
    "\n",
    "# Confusion Matrix for XGBoost Model \n",
    "pd.crosstab(Y_test , pred_xgb)"
   ]
  },
  {
   "cell_type": "code",
   "execution_count": 150,
   "metadata": {},
   "outputs": [
    {
     "name": "stdout",
     "output_type": "stream",
     "text": [
      "AUROC : XGBoost Model = 0.8715320518890257\n"
     ]
    }
   ],
   "source": [
    "# Area under ROC curve for XGBoost Model \n",
    "\n",
    "fpr, tpr, thre= metrics.roc_curve(Y_test , pred_xgb)\n",
    "auc_xgb = metrics.auc(fpr, tpr)\n",
    "\n",
    "print ('AUROC : XGBoost Model =', auc_xgb)"
   ]
  },
  {
   "cell_type": "code",
   "execution_count": null,
   "metadata": {},
   "outputs": [],
   "source": [
    "# Tuning the hyperparameters of XGBoost Classifier Model"
   ]
  },
  {
   "cell_type": "code",
   "execution_count": 151,
   "metadata": {},
   "outputs": [],
   "source": [
    "xgb = XGBClassifier()"
   ]
  },
  {
   "cell_type": "code",
   "execution_count": 154,
   "metadata": {},
   "outputs": [],
   "source": [
    "# Define the grid of hyperparameters to search\n",
    "hyperparameter_grid = {\n",
    "                       'n_estimators' : [100, 500, 1000, 1500],\n",
    "                       'max_depth'    : [2, 3, 4, 5 , 6] ,\n",
    "                      }\n",
    "\n",
    "# Set up the Random Search with 5-fold cross validation to find best hyperparameters\n",
    "xgb_tune_model = GridSearchCV( estimator=xgb,\n",
    "                               param_grid=hyperparameter_grid,\n",
    "                               cv=5, \n",
    "                               n_jobs = -1,\n",
    "                               verbose = 5, \n",
    "                               scoring = 'roc_auc',)"
   ]
  },
  {
   "cell_type": "code",
   "execution_count": 155,
   "metadata": {},
   "outputs": [
    {
     "name": "stdout",
     "output_type": "stream",
     "text": [
      "Fitting 5 folds for each of 20 candidates, totalling 100 fits\n"
     ]
    },
    {
     "name": "stderr",
     "output_type": "stream",
     "text": [
      "[Parallel(n_jobs=-1)]: Using backend LokyBackend with 8 concurrent workers.\n",
      "[Parallel(n_jobs=-1)]: Done   2 tasks      | elapsed:    0.1s\n",
      "[Parallel(n_jobs=-1)]: Done  69 tasks      | elapsed:   20.6s\n",
      "[Parallel(n_jobs=-1)]: Done 100 out of 100 | elapsed:   40.2s finished\n"
     ]
    },
    {
     "data": {
      "text/plain": [
       "GridSearchCV(cv=5, error_score='raise-deprecating',\n",
       "       estimator=XGBClassifier(base_score=0.5, booster='gbtree', colsample_bylevel=1,\n",
       "       colsample_bytree=1, gamma=0, learning_rate=0.1, max_delta_step=0,\n",
       "       max_depth=3, min_child_weight=1, missing=None, n_estimators=100,\n",
       "       n_jobs=1, nthread=None, objective='binary:logistic', random_state=0,\n",
       "       reg_alpha=0, reg_lambda=1, scale_pos_weight=1, seed=None,\n",
       "       silent=True, subsample=1),\n",
       "       fit_params=None, iid='warn', n_jobs=-1,\n",
       "       param_grid={'n_estimators': [100, 500, 1000, 1500], 'max_depth': [2, 3, 4, 5, 6]},\n",
       "       pre_dispatch='2*n_jobs', refit=True, return_train_score='warn',\n",
       "       scoring='roc_auc', verbose=5)"
      ]
     },
     "execution_count": 155,
     "metadata": {},
     "output_type": "execute_result"
    }
   ],
   "source": [
    "# Training the model for best hyperparameters\n",
    "xgb_tune_model.fit( X_train, Y_train )"
   ]
  },
  {
   "cell_type": "code",
   "execution_count": 156,
   "metadata": {},
   "outputs": [
    {
     "data": {
      "text/plain": [
       "{'max_depth': 4, 'n_estimators': 100}"
      ]
     },
     "execution_count": 156,
     "metadata": {},
     "output_type": "execute_result"
    }
   ],
   "source": [
    "# Getting the best parameters of XGBoost\n",
    "xgb_tune_model.best_params_"
   ]
  },
  {
   "cell_type": "code",
   "execution_count": 157,
   "metadata": {},
   "outputs": [],
   "source": [
    "# Creating a new instance of XGBoost model with best hyperparameters\n",
    "xgb_best = XGBClassifier( max_depth = 4, n_estimators = 100)"
   ]
  },
  {
   "cell_type": "code",
   "execution_count": 158,
   "metadata": {},
   "outputs": [
    {
     "data": {
      "text/plain": [
       "XGBClassifier(base_score=0.5, booster='gbtree', colsample_bylevel=1,\n",
       "       colsample_bytree=1, gamma=0, learning_rate=0.1, max_delta_step=0,\n",
       "       max_depth=4, min_child_weight=1, missing=None, n_estimators=100,\n",
       "       n_jobs=1, nthread=None, objective='binary:logistic', random_state=0,\n",
       "       reg_alpha=0, reg_lambda=1, scale_pos_weight=1, seed=None,\n",
       "       silent=True, subsample=1)"
      ]
     },
     "execution_count": 158,
     "metadata": {},
     "output_type": "execute_result"
    }
   ],
   "source": [
    "# Training the XGBoost model with best hyperparameters\n",
    "xgb_best.fit( X_train, Y_train  )"
   ]
  },
  {
   "cell_type": "code",
   "execution_count": 159,
   "metadata": {},
   "outputs": [
    {
     "data": {
      "text/html": [
       "<div>\n",
       "<style scoped>\n",
       "    .dataframe tbody tr th:only-of-type {\n",
       "        vertical-align: middle;\n",
       "    }\n",
       "\n",
       "    .dataframe tbody tr th {\n",
       "        vertical-align: top;\n",
       "    }\n",
       "\n",
       "    .dataframe thead th {\n",
       "        text-align: right;\n",
       "    }\n",
       "</style>\n",
       "<table border=\"1\" class=\"dataframe\">\n",
       "  <thead>\n",
       "    <tr style=\"text-align: right;\">\n",
       "      <th>col_0</th>\n",
       "      <th>0.0</th>\n",
       "      <th>1.0</th>\n",
       "    </tr>\n",
       "    <tr>\n",
       "      <th>row_0</th>\n",
       "      <th></th>\n",
       "      <th></th>\n",
       "    </tr>\n",
       "  </thead>\n",
       "  <tbody>\n",
       "    <tr>\n",
       "      <th>0.0</th>\n",
       "      <td>706</td>\n",
       "      <td>10</td>\n",
       "    </tr>\n",
       "    <tr>\n",
       "      <th>1.0</th>\n",
       "      <td>30</td>\n",
       "      <td>88</td>\n",
       "    </tr>\n",
       "  </tbody>\n",
       "</table>\n",
       "</div>"
      ],
      "text/plain": [
       "col_0  0.0  1.0\n",
       "row_0          \n",
       "0.0    706   10\n",
       "1.0     30   88"
      ]
     },
     "execution_count": 159,
     "metadata": {},
     "output_type": "execute_result"
    }
   ],
   "source": [
    "# Making predictions with XGBoost model best hyperparameters\n",
    "pred_xgb_best = xgb_best.predict( X_test)\n",
    "\n",
    "# Confusion Matrix for XGBoost model best hyperparameters\n",
    "pd.crosstab(Y_test , pred_xgb_best)"
   ]
  },
  {
   "cell_type": "code",
   "execution_count": 160,
   "metadata": {},
   "outputs": [
    {
     "name": "stdout",
     "output_type": "stream",
     "text": [
      "AUROC : XGBoost model best hyperparameters = 0.8658981157087396\n"
     ]
    }
   ],
   "source": [
    "# Area under ROC curve for XGBoost model best hyperparameters\n",
    "\n",
    "fpr, tpr, thre= metrics.roc_curve(Y_test , pred_xgb_best)\n",
    "auc_xgb_best = metrics.auc(fpr, tpr)\n",
    "\n",
    "print ('AUROC : XGBoost model best hyperparameters =', auc_xgb_best)"
   ]
  },
  {
   "cell_type": "code",
   "execution_count": 161,
   "metadata": {},
   "outputs": [],
   "source": [
    "# Visualizing AUROC values for all models deployed \n",
    "\n",
    "# Storing names of all model used\n",
    "model_name = [ 'Logistic Regression' ,\n",
    "               'Decision Tree',\n",
    "               'Random Forest' ,\n",
    "               'Random Forest after tuning',\n",
    "               'XGBoost',\n",
    "               'XGBoost after tuning']\n",
    "\n",
    "# Storing AUROC values of all model used\n",
    "auc_value = [    auc_lr.round(3),\n",
    "                 auc_dt.round(3) ,\n",
    "                 auc_rf.round(3) ,\n",
    "                 auc_best_rf.round(3) ,\n",
    "                 auc_xgb.round(3) ,\n",
    "                 auc_xgb_best.round(3) ]"
   ]
  },
  {
   "cell_type": "code",
   "execution_count": 162,
   "metadata": {},
   "outputs": [
    {
     "data": {
      "image/png": "[encoded data removed]",
      "text/plain": [
       "<Figure size 2160x720 with 1 Axes>"
      ]
     },
     "metadata": {},
     "output_type": "display_data"
    }
   ],
   "source": [
    "# Visualizing AUROC values for all models deployed \n",
    "\n",
    "plt.figure ( figsize= (30,10))\n",
    "\n",
    "sns.set(font_scale = 2)\n",
    "\n",
    "#Setting x-axis and y-axis lables\n",
    "plt.xlabel( 'Name of Model')\n",
    "plt.ylabel('AUROC')\n",
    " \n",
    "# Setting the position of each barplots on the x-axis \n",
    "pos = [ 0 ,4 , 8 , 12 , 16, 20 ]\n",
    "\n",
    "# Plotting the bars on their position 'pos'\n",
    "plt.bar( pos , auc_value )\n",
    "    \n",
    "# Plotting names of models on the x-axis\n",
    "plt.xticks( pos , model_name )\n",
    "\n",
    "# Getting the AUROC value above bars\n",
    "for index,data in enumerate(auc_value):\n",
    "    plt.text(x= index*4 , y = data +.025 , s=f\"{data}\" , fontdict=dict(fontsize=20) )\n",
    "    \n",
    "# Show graphic\n",
    "plt.show()"
   ]
  },
  {
   "cell_type": "code",
   "execution_count": null,
   "metadata": {},
   "outputs": [],
   "source": [
    "# By analysing the above barplot we can see that the highest value for AUROC is for Random Forest after tuning\n",
    "# Hence I will use that model for predictions on test dataset"
   ]
  },
  {
   "cell_type": "code",
   "execution_count": null,
   "metadata": {},
   "outputs": [],
   "source": [
    "###########################    Making Predictions on Test Dataset    ########################### "
   ]
  },
  {
   "cell_type": "code",
   "execution_count": 163,
   "metadata": {},
   "outputs": [],
   "source": [
    "# Load test dataset\n",
    "test = pd.read_csv( 'Test_data.csv' , sep=',' )"
   ]
  },
  {
   "cell_type": "code",
   "execution_count": 164,
   "metadata": {
    "collapsed": true
   },
   "outputs": [
    {
     "name": "stdout",
     "output_type": "stream",
     "text": [
      "<class 'pandas.core.frame.DataFrame'>\n",
      "RangeIndex: 1667 entries, 0 to 1666\n",
      "Data columns (total 21 columns):\n",
      "state                            1667 non-null object\n",
      "account length                   1667 non-null int64\n",
      "area code                        1667 non-null int64\n",
      "phone number                     1667 non-null object\n",
      "international plan               1667 non-null object\n",
      "voice mail plan                  1667 non-null object\n",
      "number vmail messages            1667 non-null int64\n",
      "total day minutes                1667 non-null float64\n",
      "total day calls                  1667 non-null int64\n",
      "total day charge                 1667 non-null float64\n",
      "total eve minutes                1667 non-null float64\n",
      "total eve calls                  1667 non-null int64\n",
      "total eve charge                 1667 non-null float64\n",
      "total night minutes              1667 non-null float64\n",
      "total night calls                1667 non-null int64\n",
      "total night charge               1667 non-null float64\n",
      "total intl minutes               1667 non-null float64\n",
      "total intl calls                 1667 non-null int64\n",
      "total intl charge                1667 non-null float64\n",
      "number customer service calls    1667 non-null int64\n",
      "Churn                            1667 non-null object\n",
      "dtypes: float64(8), int64(8), object(5)\n",
      "memory usage: 273.6+ KB\n"
     ]
    }
   ],
   "source": [
    "test.info()"
   ]
  },
  {
   "cell_type": "code",
   "execution_count": 165,
   "metadata": {
    "collapsed": true
   },
   "outputs": [
    {
     "data": {
      "text/plain": [
       "state                            0\n",
       "account length                   0\n",
       "area code                        0\n",
       "phone number                     0\n",
       "international plan               0\n",
       "voice mail plan                  0\n",
       "number vmail messages            0\n",
       "total day minutes                0\n",
       "total day calls                  0\n",
       "total day charge                 0\n",
       "total eve minutes                0\n",
       "total eve calls                  0\n",
       "total eve charge                 0\n",
       "total night minutes              0\n",
       "total night calls                0\n",
       "total night charge               0\n",
       "total intl minutes               0\n",
       "total intl calls                 0\n",
       "total intl charge                0\n",
       "number customer service calls    0\n",
       "Churn                            0\n",
       "dtype: int64"
      ]
     },
     "execution_count": 165,
     "metadata": {},
     "output_type": "execute_result"
    }
   ],
   "source": [
    "#Check missing values\n",
    "test.isnull().sum()"
   ]
  },
  {
   "cell_type": "code",
   "execution_count": null,
   "metadata": {},
   "outputs": [],
   "source": [
    "# Test dataset has the values for predictor variable 'Churn'\n",
    "# There are no missing values in Test Dataset\n",
    "# The test dataset has a lot of variables which are not used for model making\n",
    "# I will take only relevant predictor variables after transforming the test dataset "
   ]
  },
  {
   "cell_type": "code",
   "execution_count": 166,
   "metadata": {},
   "outputs": [],
   "source": [
    "# Transforming the Test dataset \n",
    "# Replacing values of categorical variables with numerical values\n",
    "\n",
    "#Replacing values of 'state'\n",
    "test['state']= test['state'].map(State)\n",
    "\n",
    "#Replacing values of 'international plan'\n",
    "test['international plan']= test['international plan'].map(international_plan)\n",
    "\n",
    "#Replacing values of 'voice mail plan'\n",
    "test['voice mail plan']= test['voice mail plan'].map(voice_mail_plan)\n",
    "\n",
    "#Replacing values of 'Churn'\n",
    "test['Churn']= test['Churn'].map(Churn)"
   ]
  },
  {
   "cell_type": "code",
   "execution_count": 167,
   "metadata": {},
   "outputs": [
    {
     "data": {
      "text/html": [
       "<div>\n",
       "<style scoped>\n",
       "    .dataframe tbody tr th:only-of-type {\n",
       "        vertical-align: middle;\n",
       "    }\n",
       "\n",
       "    .dataframe tbody tr th {\n",
       "        vertical-align: top;\n",
       "    }\n",
       "\n",
       "    .dataframe thead th {\n",
       "        text-align: right;\n",
       "    }\n",
       "</style>\n",
       "<table border=\"1\" class=\"dataframe\">\n",
       "  <thead>\n",
       "    <tr style=\"text-align: right;\">\n",
       "      <th></th>\n",
       "      <th>state</th>\n",
       "      <th>account length</th>\n",
       "      <th>area code</th>\n",
       "      <th>phone number</th>\n",
       "      <th>international plan</th>\n",
       "      <th>voice mail plan</th>\n",
       "      <th>number vmail messages</th>\n",
       "      <th>total day minutes</th>\n",
       "      <th>total day calls</th>\n",
       "      <th>total day charge</th>\n",
       "      <th>...</th>\n",
       "      <th>total eve calls</th>\n",
       "      <th>total eve charge</th>\n",
       "      <th>total night minutes</th>\n",
       "      <th>total night calls</th>\n",
       "      <th>total night charge</th>\n",
       "      <th>total intl minutes</th>\n",
       "      <th>total intl calls</th>\n",
       "      <th>total intl charge</th>\n",
       "      <th>number customer service calls</th>\n",
       "      <th>Churn</th>\n",
       "    </tr>\n",
       "  </thead>\n",
       "  <tbody>\n",
       "    <tr>\n",
       "      <th>0</th>\n",
       "      <td>46</td>\n",
       "      <td>101</td>\n",
       "      <td>510</td>\n",
       "      <td>354-8815</td>\n",
       "      <td>0</td>\n",
       "      <td>0</td>\n",
       "      <td>0</td>\n",
       "      <td>70.9</td>\n",
       "      <td>123</td>\n",
       "      <td>12.05</td>\n",
       "      <td>...</td>\n",
       "      <td>73</td>\n",
       "      <td>18.01</td>\n",
       "      <td>236.0</td>\n",
       "      <td>73</td>\n",
       "      <td>10.62</td>\n",
       "      <td>10.6</td>\n",
       "      <td>3</td>\n",
       "      <td>2.86</td>\n",
       "      <td>3</td>\n",
       "      <td>0</td>\n",
       "    </tr>\n",
       "    <tr>\n",
       "      <th>1</th>\n",
       "      <td>21</td>\n",
       "      <td>137</td>\n",
       "      <td>510</td>\n",
       "      <td>381-7211</td>\n",
       "      <td>0</td>\n",
       "      <td>0</td>\n",
       "      <td>0</td>\n",
       "      <td>223.6</td>\n",
       "      <td>86</td>\n",
       "      <td>38.01</td>\n",
       "      <td>...</td>\n",
       "      <td>139</td>\n",
       "      <td>20.81</td>\n",
       "      <td>94.2</td>\n",
       "      <td>81</td>\n",
       "      <td>4.24</td>\n",
       "      <td>9.5</td>\n",
       "      <td>7</td>\n",
       "      <td>2.57</td>\n",
       "      <td>0</td>\n",
       "      <td>0</td>\n",
       "    </tr>\n",
       "    <tr>\n",
       "      <th>2</th>\n",
       "      <td>6</td>\n",
       "      <td>103</td>\n",
       "      <td>408</td>\n",
       "      <td>411-9481</td>\n",
       "      <td>0</td>\n",
       "      <td>1</td>\n",
       "      <td>29</td>\n",
       "      <td>294.7</td>\n",
       "      <td>95</td>\n",
       "      <td>50.10</td>\n",
       "      <td>...</td>\n",
       "      <td>105</td>\n",
       "      <td>20.17</td>\n",
       "      <td>300.3</td>\n",
       "      <td>127</td>\n",
       "      <td>13.51</td>\n",
       "      <td>13.7</td>\n",
       "      <td>6</td>\n",
       "      <td>3.70</td>\n",
       "      <td>1</td>\n",
       "      <td>0</td>\n",
       "    </tr>\n",
       "    <tr>\n",
       "      <th>3</th>\n",
       "      <td>32</td>\n",
       "      <td>99</td>\n",
       "      <td>415</td>\n",
       "      <td>418-9100</td>\n",
       "      <td>0</td>\n",
       "      <td>0</td>\n",
       "      <td>0</td>\n",
       "      <td>216.8</td>\n",
       "      <td>123</td>\n",
       "      <td>36.86</td>\n",
       "      <td>...</td>\n",
       "      <td>88</td>\n",
       "      <td>10.74</td>\n",
       "      <td>220.6</td>\n",
       "      <td>82</td>\n",
       "      <td>9.93</td>\n",
       "      <td>15.7</td>\n",
       "      <td>2</td>\n",
       "      <td>4.24</td>\n",
       "      <td>1</td>\n",
       "      <td>0</td>\n",
       "    </tr>\n",
       "    <tr>\n",
       "      <th>4</th>\n",
       "      <td>37</td>\n",
       "      <td>108</td>\n",
       "      <td>415</td>\n",
       "      <td>413-3643</td>\n",
       "      <td>0</td>\n",
       "      <td>0</td>\n",
       "      <td>0</td>\n",
       "      <td>197.4</td>\n",
       "      <td>78</td>\n",
       "      <td>33.56</td>\n",
       "      <td>...</td>\n",
       "      <td>101</td>\n",
       "      <td>10.54</td>\n",
       "      <td>204.5</td>\n",
       "      <td>107</td>\n",
       "      <td>9.20</td>\n",
       "      <td>7.7</td>\n",
       "      <td>4</td>\n",
       "      <td>2.08</td>\n",
       "      <td>2</td>\n",
       "      <td>0</td>\n",
       "    </tr>\n",
       "  </tbody>\n",
       "</table>\n",
       "<p>5 rows × 21 columns</p>\n",
       "</div>"
      ],
      "text/plain": [
       "   state  account length  area code phone number  international plan  \\\n",
       "0     46             101        510     354-8815                   0   \n",
       "1     21             137        510     381-7211                   0   \n",
       "2      6             103        408     411-9481                   0   \n",
       "3     32              99        415     418-9100                   0   \n",
       "4     37             108        415     413-3643                   0   \n",
       "\n",
       "   voice mail plan  number vmail messages  total day minutes  total day calls  \\\n",
       "0                0                      0               70.9              123   \n",
       "1                0                      0              223.6               86   \n",
       "2                1                     29              294.7               95   \n",
       "3                0                      0              216.8              123   \n",
       "4                0                      0              197.4               78   \n",
       "\n",
       "   total day charge  ...    total eve calls  total eve charge  \\\n",
       "0             12.05  ...                 73             18.01   \n",
       "1             38.01  ...                139             20.81   \n",
       "2             50.10  ...                105             20.17   \n",
       "3             36.86  ...                 88             10.74   \n",
       "4             33.56  ...                101             10.54   \n",
       "\n",
       "   total night minutes  total night calls  total night charge  \\\n",
       "0                236.0                 73               10.62   \n",
       "1                 94.2                 81                4.24   \n",
       "2                300.3                127               13.51   \n",
       "3                220.6                 82                9.93   \n",
       "4                204.5                107                9.20   \n",
       "\n",
       "   total intl minutes  total intl calls  total intl charge  \\\n",
       "0                10.6                 3               2.86   \n",
       "1                 9.5                 7               2.57   \n",
       "2                13.7                 6               3.70   \n",
       "3                15.7                 2               4.24   \n",
       "4                 7.7                 4               2.08   \n",
       "\n",
       "   number customer service calls  Churn  \n",
       "0                              3      0  \n",
       "1                              0      0  \n",
       "2                              1      0  \n",
       "3                              1      0  \n",
       "4                              2      0  \n",
       "\n",
       "[5 rows x 21 columns]"
      ]
     },
     "execution_count": 167,
     "metadata": {},
     "output_type": "execute_result"
    }
   ],
   "source": [
    "test.head()"
   ]
  },
  {
   "cell_type": "code",
   "execution_count": 168,
   "metadata": {},
   "outputs": [],
   "source": [
    "# Creating a new dataframe 'test_data' such that :\n",
    "# It's first column is target variable 'Churn' of test dataset\n",
    "# All subsequent columns are predictor variables selected for model making\n",
    "\n",
    "test_data=pd.DataFrame(test['Churn'])\n",
    "test_data=test_data.join(test[cnames])"
   ]
  },
  {
   "cell_type": "code",
   "execution_count": 169,
   "metadata": {},
   "outputs": [
    {
     "data": {
      "text/html": [
       "<div>\n",
       "<style scoped>\n",
       "    .dataframe tbody tr th:only-of-type {\n",
       "        vertical-align: middle;\n",
       "    }\n",
       "\n",
       "    .dataframe tbody tr th {\n",
       "        vertical-align: top;\n",
       "    }\n",
       "\n",
       "    .dataframe thead th {\n",
       "        text-align: right;\n",
       "    }\n",
       "</style>\n",
       "<table border=\"1\" class=\"dataframe\">\n",
       "  <thead>\n",
       "    <tr style=\"text-align: right;\">\n",
       "      <th></th>\n",
       "      <th>Churn</th>\n",
       "      <th>state</th>\n",
       "      <th>account length</th>\n",
       "      <th>international plan</th>\n",
       "      <th>voice mail plan</th>\n",
       "      <th>total day minutes</th>\n",
       "      <th>total day calls</th>\n",
       "      <th>total eve minutes</th>\n",
       "      <th>total eve calls</th>\n",
       "      <th>total night minutes</th>\n",
       "      <th>total night calls</th>\n",
       "      <th>total intl minutes</th>\n",
       "      <th>total intl calls</th>\n",
       "      <th>number customer service calls</th>\n",
       "    </tr>\n",
       "  </thead>\n",
       "  <tbody>\n",
       "    <tr>\n",
       "      <th>0</th>\n",
       "      <td>0</td>\n",
       "      <td>46</td>\n",
       "      <td>101</td>\n",
       "      <td>0</td>\n",
       "      <td>0</td>\n",
       "      <td>70.9</td>\n",
       "      <td>123</td>\n",
       "      <td>211.9</td>\n",
       "      <td>73</td>\n",
       "      <td>236.0</td>\n",
       "      <td>73</td>\n",
       "      <td>10.6</td>\n",
       "      <td>3</td>\n",
       "      <td>3</td>\n",
       "    </tr>\n",
       "    <tr>\n",
       "      <th>1</th>\n",
       "      <td>0</td>\n",
       "      <td>21</td>\n",
       "      <td>137</td>\n",
       "      <td>0</td>\n",
       "      <td>0</td>\n",
       "      <td>223.6</td>\n",
       "      <td>86</td>\n",
       "      <td>244.8</td>\n",
       "      <td>139</td>\n",
       "      <td>94.2</td>\n",
       "      <td>81</td>\n",
       "      <td>9.5</td>\n",
       "      <td>7</td>\n",
       "      <td>0</td>\n",
       "    </tr>\n",
       "    <tr>\n",
       "      <th>2</th>\n",
       "      <td>0</td>\n",
       "      <td>6</td>\n",
       "      <td>103</td>\n",
       "      <td>0</td>\n",
       "      <td>1</td>\n",
       "      <td>294.7</td>\n",
       "      <td>95</td>\n",
       "      <td>237.3</td>\n",
       "      <td>105</td>\n",
       "      <td>300.3</td>\n",
       "      <td>127</td>\n",
       "      <td>13.7</td>\n",
       "      <td>6</td>\n",
       "      <td>1</td>\n",
       "    </tr>\n",
       "    <tr>\n",
       "      <th>3</th>\n",
       "      <td>0</td>\n",
       "      <td>32</td>\n",
       "      <td>99</td>\n",
       "      <td>0</td>\n",
       "      <td>0</td>\n",
       "      <td>216.8</td>\n",
       "      <td>123</td>\n",
       "      <td>126.4</td>\n",
       "      <td>88</td>\n",
       "      <td>220.6</td>\n",
       "      <td>82</td>\n",
       "      <td>15.7</td>\n",
       "      <td>2</td>\n",
       "      <td>1</td>\n",
       "    </tr>\n",
       "    <tr>\n",
       "      <th>4</th>\n",
       "      <td>0</td>\n",
       "      <td>37</td>\n",
       "      <td>108</td>\n",
       "      <td>0</td>\n",
       "      <td>0</td>\n",
       "      <td>197.4</td>\n",
       "      <td>78</td>\n",
       "      <td>124.0</td>\n",
       "      <td>101</td>\n",
       "      <td>204.5</td>\n",
       "      <td>107</td>\n",
       "      <td>7.7</td>\n",
       "      <td>4</td>\n",
       "      <td>2</td>\n",
       "    </tr>\n",
       "  </tbody>\n",
       "</table>\n",
       "</div>"
      ],
      "text/plain": [
       "   Churn  state  account length  international plan  voice mail plan  \\\n",
       "0      0     46             101                   0                0   \n",
       "1      0     21             137                   0                0   \n",
       "2      0      6             103                   0                1   \n",
       "3      0     32              99                   0                0   \n",
       "4      0     37             108                   0                0   \n",
       "\n",
       "   total day minutes  total day calls  total eve minutes  total eve calls  \\\n",
       "0               70.9              123              211.9               73   \n",
       "1              223.6               86              244.8              139   \n",
       "2              294.7               95              237.3              105   \n",
       "3              216.8              123              126.4               88   \n",
       "4              197.4               78              124.0              101   \n",
       "\n",
       "   total night minutes  total night calls  total intl minutes  \\\n",
       "0                236.0                 73                10.6   \n",
       "1                 94.2                 81                 9.5   \n",
       "2                300.3                127                13.7   \n",
       "3                220.6                 82                15.7   \n",
       "4                204.5                107                 7.7   \n",
       "\n",
       "   total intl calls  number customer service calls  \n",
       "0                 3                              3  \n",
       "1                 7                              0  \n",
       "2                 6                              1  \n",
       "3                 2                              1  \n",
       "4                 4                              2  "
      ]
     },
     "execution_count": 169,
     "metadata": {},
     "output_type": "execute_result"
    }
   ],
   "source": [
    "# Checking the new test_data \n",
    "test_data.head()"
   ]
  },
  {
   "cell_type": "code",
   "execution_count": 170,
   "metadata": {},
   "outputs": [
    {
     "data": {
      "text/html": [
       "<div>\n",
       "<style scoped>\n",
       "    .dataframe tbody tr th:only-of-type {\n",
       "        vertical-align: middle;\n",
       "    }\n",
       "\n",
       "    .dataframe tbody tr th {\n",
       "        vertical-align: top;\n",
       "    }\n",
       "\n",
       "    .dataframe thead th {\n",
       "        text-align: right;\n",
       "    }\n",
       "</style>\n",
       "<table border=\"1\" class=\"dataframe\">\n",
       "  <thead>\n",
       "    <tr style=\"text-align: right;\">\n",
       "      <th>Predicted Churn</th>\n",
       "      <th>0.0</th>\n",
       "      <th>1.0</th>\n",
       "    </tr>\n",
       "    <tr>\n",
       "      <th>Churn</th>\n",
       "      <th></th>\n",
       "      <th></th>\n",
       "    </tr>\n",
       "  </thead>\n",
       "  <tbody>\n",
       "    <tr>\n",
       "      <th>0</th>\n",
       "      <td>1418</td>\n",
       "      <td>25</td>\n",
       "    </tr>\n",
       "    <tr>\n",
       "      <th>1</th>\n",
       "      <td>48</td>\n",
       "      <td>176</td>\n",
       "    </tr>\n",
       "  </tbody>\n",
       "</table>\n",
       "</div>"
      ],
      "text/plain": [
       "Predicted Churn   0.0  1.0\n",
       "Churn                     \n",
       "0                1418   25\n",
       "1                  48  176"
      ]
     },
     "execution_count": 170,
     "metadata": {},
     "output_type": "execute_result"
    }
   ],
   "source": [
    "# Making predictions with Random Forest Classifier Model after tuning hyperparameters\n",
    "test_data['Predicted Churn'] = best_rf.predict(test_data.iloc[:,1:14])\n",
    "\n",
    "# Confusion Matrix for Random Forest Classifier Model after tuning hyperparameters\n",
    "pd.crosstab(test_data['Churn'] , test_data['Predicted Churn'])"
   ]
  },
  {
   "cell_type": "code",
   "execution_count": 171,
   "metadata": {},
   "outputs": [
    {
     "name": "stdout",
     "output_type": "stream",
     "text": [
      "Area Under Curve = 0.8841946341946341\n"
     ]
    },
    {
     "data": {
      "image/png": "[encoded data removed]",
      "text/plain": [
       "<Figure size 432x288 with 1 Axes>"
      ]
     },
     "metadata": {},
     "output_type": "display_data"
    }
   ],
   "source": [
    "#ROC Curve and AUC value \n",
    "sns.set(font_scale = 1.3)\n",
    "fpr, tpr, thre= metrics.roc_curve(test_data['Churn'], test_data['Predicted Churn'])\n",
    "\n",
    "plt.plot(fpr, tpr)\n",
    "plt.xlim([0.0, 1.0])\n",
    "plt.ylim([0.0, 1.0])\n",
    "plt.title('ROC Curve for Random Forest Classifier Model after tuning hyperparameters')\n",
    "plt.xlabel('False Positive Rate')\n",
    "plt.ylabel('True Positive Rate')\n",
    "\n",
    "area= metrics.auc(fpr, tpr)\n",
    "\n",
    "print ('Area Under Curve =', area)"
   ]
  },
  {
   "cell_type": "code",
   "execution_count": null,
   "metadata": {},
   "outputs": [],
   "source": [
    "# Deploying Random Forest Classifier Model after tuning hyperparameter on Test Dataset gives AUROC = 0.88"
   ]
  }
 ],
 "metadata": {
  "kernelspec": {
   "display_name": "Python 3",
   "language": "python",
   "name": "python3"
  },
  "language_info": {
   "codemirror_mode": {
    "name": "ipython",
    "version": 3
   },
   "file_extension": ".py",
   "mimetype": "text/x-python",
   "name": "python",
   "nbconvert_exporter": "python",
   "pygments_lexer": "ipython3",
   "version": "3.7.1"
  }
 },
 "nbformat": 4,
 "nbformat_minor": 2
}
